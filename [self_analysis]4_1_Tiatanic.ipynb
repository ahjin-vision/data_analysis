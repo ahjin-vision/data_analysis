{
  "nbformat": 4,
  "nbformat_minor": 0,
  "metadata": {
    "colab": {
      "name": "[self_analysis]4_1_Tiatanic.ipynb",
      "provenance": [],
      "authorship_tag": "ABX9TyM7p0rNsGYYvEnhrasEq9Lt"
    },
    "kernelspec": {
      "name": "python3",
      "display_name": "Python 3"
    },
    "language_info": {
      "name": "python"
    }
  },
  "cells": [
    {
      "cell_type": "code",
      "metadata": {
        "colab": {
          "base_uri": "https://localhost:8080/"
        },
        "id": "dzmNwfHsY1y3",
        "outputId": "959eba32-587b-418d-ecb9-8a4a4ff9bc0a"
      },
      "source": [
        "from google.colab import drive\n",
        "\n",
        "ROOT = \"/content/drive\"\n",
        "drive.mount(ROOT)"
      ],
      "execution_count": 195,
      "outputs": [
        {
          "output_type": "stream",
          "text": [
            "Drive already mounted at /content/drive; to attempt to forcibly remount, call drive.mount(\"/content/drive\", force_remount=True).\n"
          ],
          "name": "stdout"
        }
      ]
    },
    {
      "cell_type": "code",
      "metadata": {
        "id": "HTF070ZjdL1r"
      },
      "source": [
        "import pandas as pd\n",
        "import numpy as np\n",
        "import seaborn as sns\n",
        "import matplotlib.pyplot as plt\n",
        "%matplotlib inline\n",
        "\n",
        "import warnings\n",
        "\n",
        "warnings.filterwarnings(\"ignore\")"
      ],
      "execution_count": 196,
      "outputs": []
    },
    {
      "cell_type": "code",
      "metadata": {
        "id": "H90d6ozydoh0"
      },
      "source": [
        "train_dataset_file_path = \"/content/drive/MyDrive/python_data_analysis/data/titanic_train.csv\"\n",
        "test_dataset_file_path = \"/content/drive/MyDrive/python_data_analysis/data/titanic_test.csv\"\n",
        "\n",
        "train_df = pd.read_csv(train_dataset_file_path)\n",
        "test_df = pd.read_csv(test_dataset_file_path)"
      ],
      "execution_count": 197,
      "outputs": []
    },
    {
      "cell_type": "markdown",
      "metadata": {
        "id": "4GyZEsmkhA0R"
      },
      "source": [
        "# [1] 데이터 확인하기 "
      ]
    },
    {
      "cell_type": "code",
      "metadata": {
        "colab": {
          "base_uri": "https://localhost:8080/"
        },
        "id": "woMNANZDeA1h",
        "outputId": "d2ea7d81-1c87-4e03-a056-bdfead9071f4"
      },
      "source": [
        "print(train_df.shape, test_df.shape)\n",
        "print(train_df.info(), test_df.info())"
      ],
      "execution_count": 198,
      "outputs": [
        {
          "output_type": "stream",
          "text": [
            "(916, 13) (393, 13)\n",
            "<class 'pandas.core.frame.DataFrame'>\n",
            "RangeIndex: 916 entries, 0 to 915\n",
            "Data columns (total 13 columns):\n",
            " #   Column     Non-Null Count  Dtype  \n",
            "---  ------     --------------  -----  \n",
            " 0   pclass     916 non-null    int64  \n",
            " 1   survived   916 non-null    int64  \n",
            " 2   name       916 non-null    object \n",
            " 3   sex        916 non-null    object \n",
            " 4   age        741 non-null    float64\n",
            " 5   sibsp      916 non-null    int64  \n",
            " 6   parch      916 non-null    int64  \n",
            " 7   ticket     916 non-null    object \n",
            " 8   fare       916 non-null    float64\n",
            " 9   cabin      214 non-null    object \n",
            " 10  embarked   914 non-null    object \n",
            " 11  body       85 non-null     float64\n",
            " 12  home.dest  527 non-null    object \n",
            "dtypes: float64(3), int64(4), object(6)\n",
            "memory usage: 93.2+ KB\n",
            "<class 'pandas.core.frame.DataFrame'>\n",
            "RangeIndex: 393 entries, 0 to 392\n",
            "Data columns (total 13 columns):\n",
            " #   Column     Non-Null Count  Dtype  \n",
            "---  ------     --------------  -----  \n",
            " 0   pclass     393 non-null    int64  \n",
            " 1   survived   393 non-null    int64  \n",
            " 2   name       393 non-null    object \n",
            " 3   sex        393 non-null    object \n",
            " 4   age        305 non-null    float64\n",
            " 5   sibsp      393 non-null    int64  \n",
            " 6   parch      393 non-null    int64  \n",
            " 7   ticket     393 non-null    object \n",
            " 8   fare       393 non-null    float64\n",
            " 9   cabin      81 non-null     object \n",
            " 10  embarked   393 non-null    object \n",
            " 11  body       36 non-null     float64\n",
            " 12  home.dest  218 non-null    object \n",
            "dtypes: float64(3), int64(4), object(6)\n",
            "memory usage: 40.0+ KB\n",
            "None None\n"
          ],
          "name": "stdout"
        }
      ]
    },
    {
      "cell_type": "code",
      "metadata": {
        "colab": {
          "base_uri": "https://localhost:8080/",
          "height": 1000
        },
        "id": "M19is6LueEua",
        "outputId": "413d8713-9ba8-4303-b34e-99a1e83edfd1"
      },
      "source": [
        "display(train_df.head(10))\n",
        "display(test_df.head(10))"
      ],
      "execution_count": 199,
      "outputs": [
        {
          "output_type": "display_data",
          "data": {
            "text/html": [
              "<div>\n",
              "<style scoped>\n",
              "    .dataframe tbody tr th:only-of-type {\n",
              "        vertical-align: middle;\n",
              "    }\n",
              "\n",
              "    .dataframe tbody tr th {\n",
              "        vertical-align: top;\n",
              "    }\n",
              "\n",
              "    .dataframe thead th {\n",
              "        text-align: right;\n",
              "    }\n",
              "</style>\n",
              "<table border=\"1\" class=\"dataframe\">\n",
              "  <thead>\n",
              "    <tr style=\"text-align: right;\">\n",
              "      <th></th>\n",
              "      <th>pclass</th>\n",
              "      <th>survived</th>\n",
              "      <th>name</th>\n",
              "      <th>sex</th>\n",
              "      <th>age</th>\n",
              "      <th>sibsp</th>\n",
              "      <th>parch</th>\n",
              "      <th>ticket</th>\n",
              "      <th>fare</th>\n",
              "      <th>cabin</th>\n",
              "      <th>embarked</th>\n",
              "      <th>body</th>\n",
              "      <th>home.dest</th>\n",
              "    </tr>\n",
              "  </thead>\n",
              "  <tbody>\n",
              "    <tr>\n",
              "      <th>0</th>\n",
              "      <td>2</td>\n",
              "      <td>1</td>\n",
              "      <td>Mellinger, Miss. Madeleine Violet</td>\n",
              "      <td>female</td>\n",
              "      <td>13.0</td>\n",
              "      <td>0</td>\n",
              "      <td>1</td>\n",
              "      <td>250644</td>\n",
              "      <td>19.5000</td>\n",
              "      <td>NaN</td>\n",
              "      <td>S</td>\n",
              "      <td>NaN</td>\n",
              "      <td>England / Bennington, VT</td>\n",
              "    </tr>\n",
              "    <tr>\n",
              "      <th>1</th>\n",
              "      <td>2</td>\n",
              "      <td>1</td>\n",
              "      <td>Wells, Miss. Joan</td>\n",
              "      <td>female</td>\n",
              "      <td>4.0</td>\n",
              "      <td>1</td>\n",
              "      <td>1</td>\n",
              "      <td>29103</td>\n",
              "      <td>23.0000</td>\n",
              "      <td>NaN</td>\n",
              "      <td>S</td>\n",
              "      <td>NaN</td>\n",
              "      <td>Cornwall / Akron, OH</td>\n",
              "    </tr>\n",
              "    <tr>\n",
              "      <th>2</th>\n",
              "      <td>2</td>\n",
              "      <td>1</td>\n",
              "      <td>Duran y More, Miss. Florentina</td>\n",
              "      <td>female</td>\n",
              "      <td>30.0</td>\n",
              "      <td>1</td>\n",
              "      <td>0</td>\n",
              "      <td>SC/PARIS 2148</td>\n",
              "      <td>13.8583</td>\n",
              "      <td>NaN</td>\n",
              "      <td>C</td>\n",
              "      <td>NaN</td>\n",
              "      <td>Barcelona, Spain / Havana, Cuba</td>\n",
              "    </tr>\n",
              "    <tr>\n",
              "      <th>3</th>\n",
              "      <td>3</td>\n",
              "      <td>0</td>\n",
              "      <td>Scanlan, Mr. James</td>\n",
              "      <td>male</td>\n",
              "      <td>NaN</td>\n",
              "      <td>0</td>\n",
              "      <td>0</td>\n",
              "      <td>36209</td>\n",
              "      <td>7.7250</td>\n",
              "      <td>NaN</td>\n",
              "      <td>Q</td>\n",
              "      <td>NaN</td>\n",
              "      <td>NaN</td>\n",
              "    </tr>\n",
              "    <tr>\n",
              "      <th>4</th>\n",
              "      <td>3</td>\n",
              "      <td>1</td>\n",
              "      <td>Bradley, Miss. Bridget Delia</td>\n",
              "      <td>female</td>\n",
              "      <td>22.0</td>\n",
              "      <td>0</td>\n",
              "      <td>0</td>\n",
              "      <td>334914</td>\n",
              "      <td>7.7250</td>\n",
              "      <td>NaN</td>\n",
              "      <td>Q</td>\n",
              "      <td>NaN</td>\n",
              "      <td>Kingwilliamstown, Co Cork, Ireland Glens Falls...</td>\n",
              "    </tr>\n",
              "    <tr>\n",
              "      <th>5</th>\n",
              "      <td>3</td>\n",
              "      <td>0</td>\n",
              "      <td>Linehan, Mr. Michael</td>\n",
              "      <td>male</td>\n",
              "      <td>NaN</td>\n",
              "      <td>0</td>\n",
              "      <td>0</td>\n",
              "      <td>330971</td>\n",
              "      <td>7.8792</td>\n",
              "      <td>NaN</td>\n",
              "      <td>Q</td>\n",
              "      <td>NaN</td>\n",
              "      <td>NaN</td>\n",
              "    </tr>\n",
              "    <tr>\n",
              "      <th>6</th>\n",
              "      <td>1</td>\n",
              "      <td>1</td>\n",
              "      <td>Francatelli, Miss. Laura Mabel</td>\n",
              "      <td>female</td>\n",
              "      <td>30.0</td>\n",
              "      <td>0</td>\n",
              "      <td>0</td>\n",
              "      <td>PC 17485</td>\n",
              "      <td>56.9292</td>\n",
              "      <td>E36</td>\n",
              "      <td>C</td>\n",
              "      <td>NaN</td>\n",
              "      <td>NaN</td>\n",
              "    </tr>\n",
              "    <tr>\n",
              "      <th>7</th>\n",
              "      <td>2</td>\n",
              "      <td>1</td>\n",
              "      <td>Quick, Miss. Phyllis May</td>\n",
              "      <td>female</td>\n",
              "      <td>2.0</td>\n",
              "      <td>1</td>\n",
              "      <td>1</td>\n",
              "      <td>26360</td>\n",
              "      <td>26.0000</td>\n",
              "      <td>NaN</td>\n",
              "      <td>S</td>\n",
              "      <td>NaN</td>\n",
              "      <td>Plymouth, Devon / Detroit, MI</td>\n",
              "    </tr>\n",
              "    <tr>\n",
              "      <th>8</th>\n",
              "      <td>1</td>\n",
              "      <td>0</td>\n",
              "      <td>Thayer, Mr. John Borland</td>\n",
              "      <td>male</td>\n",
              "      <td>49.0</td>\n",
              "      <td>1</td>\n",
              "      <td>1</td>\n",
              "      <td>17421</td>\n",
              "      <td>110.8833</td>\n",
              "      <td>C68</td>\n",
              "      <td>C</td>\n",
              "      <td>NaN</td>\n",
              "      <td>Haverford, PA</td>\n",
              "    </tr>\n",
              "    <tr>\n",
              "      <th>9</th>\n",
              "      <td>1</td>\n",
              "      <td>1</td>\n",
              "      <td>Silverthorne, Mr. Spencer Victor</td>\n",
              "      <td>male</td>\n",
              "      <td>35.0</td>\n",
              "      <td>0</td>\n",
              "      <td>0</td>\n",
              "      <td>PC 17475</td>\n",
              "      <td>26.2875</td>\n",
              "      <td>E24</td>\n",
              "      <td>S</td>\n",
              "      <td>NaN</td>\n",
              "      <td>St Louis, MO</td>\n",
              "    </tr>\n",
              "  </tbody>\n",
              "</table>\n",
              "</div>"
            ],
            "text/plain": [
              "   pclass  survived  ... body                                          home.dest\n",
              "0       2         1  ...  NaN                           England / Bennington, VT\n",
              "1       2         1  ...  NaN                               Cornwall / Akron, OH\n",
              "2       2         1  ...  NaN                    Barcelona, Spain / Havana, Cuba\n",
              "3       3         0  ...  NaN                                                NaN\n",
              "4       3         1  ...  NaN  Kingwilliamstown, Co Cork, Ireland Glens Falls...\n",
              "5       3         0  ...  NaN                                                NaN\n",
              "6       1         1  ...  NaN                                                NaN\n",
              "7       2         1  ...  NaN                      Plymouth, Devon / Detroit, MI\n",
              "8       1         0  ...  NaN                                      Haverford, PA\n",
              "9       1         1  ...  NaN                                       St Louis, MO\n",
              "\n",
              "[10 rows x 13 columns]"
            ]
          },
          "metadata": {
            "tags": []
          }
        },
        {
          "output_type": "display_data",
          "data": {
            "text/html": [
              "<div>\n",
              "<style scoped>\n",
              "    .dataframe tbody tr th:only-of-type {\n",
              "        vertical-align: middle;\n",
              "    }\n",
              "\n",
              "    .dataframe tbody tr th {\n",
              "        vertical-align: top;\n",
              "    }\n",
              "\n",
              "    .dataframe thead th {\n",
              "        text-align: right;\n",
              "    }\n",
              "</style>\n",
              "<table border=\"1\" class=\"dataframe\">\n",
              "  <thead>\n",
              "    <tr style=\"text-align: right;\">\n",
              "      <th></th>\n",
              "      <th>pclass</th>\n",
              "      <th>survived</th>\n",
              "      <th>name</th>\n",
              "      <th>sex</th>\n",
              "      <th>age</th>\n",
              "      <th>sibsp</th>\n",
              "      <th>parch</th>\n",
              "      <th>ticket</th>\n",
              "      <th>fare</th>\n",
              "      <th>cabin</th>\n",
              "      <th>embarked</th>\n",
              "      <th>body</th>\n",
              "      <th>home.dest</th>\n",
              "    </tr>\n",
              "  </thead>\n",
              "  <tbody>\n",
              "    <tr>\n",
              "      <th>0</th>\n",
              "      <td>3</td>\n",
              "      <td>0</td>\n",
              "      <td>Rekic, Mr. Tido</td>\n",
              "      <td>male</td>\n",
              "      <td>38.0</td>\n",
              "      <td>0</td>\n",
              "      <td>0</td>\n",
              "      <td>349249</td>\n",
              "      <td>7.8958</td>\n",
              "      <td>NaN</td>\n",
              "      <td>S</td>\n",
              "      <td>NaN</td>\n",
              "      <td>NaN</td>\n",
              "    </tr>\n",
              "    <tr>\n",
              "      <th>1</th>\n",
              "      <td>2</td>\n",
              "      <td>1</td>\n",
              "      <td>Phillips, Miss. Alice Frances Louisa</td>\n",
              "      <td>female</td>\n",
              "      <td>21.0</td>\n",
              "      <td>0</td>\n",
              "      <td>1</td>\n",
              "      <td>S.O./P.P. 2</td>\n",
              "      <td>21.0000</td>\n",
              "      <td>NaN</td>\n",
              "      <td>S</td>\n",
              "      <td>NaN</td>\n",
              "      <td>Ilfracombe, Devon</td>\n",
              "    </tr>\n",
              "    <tr>\n",
              "      <th>2</th>\n",
              "      <td>2</td>\n",
              "      <td>0</td>\n",
              "      <td>Jacobsohn, Mr. Sidney Samuel</td>\n",
              "      <td>male</td>\n",
              "      <td>42.0</td>\n",
              "      <td>1</td>\n",
              "      <td>0</td>\n",
              "      <td>243847</td>\n",
              "      <td>27.0000</td>\n",
              "      <td>NaN</td>\n",
              "      <td>S</td>\n",
              "      <td>NaN</td>\n",
              "      <td>London</td>\n",
              "    </tr>\n",
              "    <tr>\n",
              "      <th>3</th>\n",
              "      <td>3</td>\n",
              "      <td>0</td>\n",
              "      <td>Risien, Mr. Samuel Beard</td>\n",
              "      <td>male</td>\n",
              "      <td>NaN</td>\n",
              "      <td>0</td>\n",
              "      <td>0</td>\n",
              "      <td>364498</td>\n",
              "      <td>14.5000</td>\n",
              "      <td>NaN</td>\n",
              "      <td>S</td>\n",
              "      <td>NaN</td>\n",
              "      <td>NaN</td>\n",
              "    </tr>\n",
              "    <tr>\n",
              "      <th>4</th>\n",
              "      <td>2</td>\n",
              "      <td>0</td>\n",
              "      <td>Denbury, Mr. Herbert</td>\n",
              "      <td>male</td>\n",
              "      <td>25.0</td>\n",
              "      <td>0</td>\n",
              "      <td>0</td>\n",
              "      <td>C.A. 31029</td>\n",
              "      <td>31.5000</td>\n",
              "      <td>NaN</td>\n",
              "      <td>S</td>\n",
              "      <td>NaN</td>\n",
              "      <td>Guernsey / Elizabeth, NJ</td>\n",
              "    </tr>\n",
              "    <tr>\n",
              "      <th>5</th>\n",
              "      <td>3</td>\n",
              "      <td>1</td>\n",
              "      <td>Sandstrom, Miss. Marguerite Rut</td>\n",
              "      <td>female</td>\n",
              "      <td>4.0</td>\n",
              "      <td>1</td>\n",
              "      <td>1</td>\n",
              "      <td>PP 9549</td>\n",
              "      <td>16.7000</td>\n",
              "      <td>G6</td>\n",
              "      <td>S</td>\n",
              "      <td>NaN</td>\n",
              "      <td>NaN</td>\n",
              "    </tr>\n",
              "    <tr>\n",
              "      <th>6</th>\n",
              "      <td>1</td>\n",
              "      <td>1</td>\n",
              "      <td>Anderson, Mr. Harry</td>\n",
              "      <td>male</td>\n",
              "      <td>48.0</td>\n",
              "      <td>0</td>\n",
              "      <td>0</td>\n",
              "      <td>19952</td>\n",
              "      <td>26.5500</td>\n",
              "      <td>E12</td>\n",
              "      <td>S</td>\n",
              "      <td>NaN</td>\n",
              "      <td>New York, NY</td>\n",
              "    </tr>\n",
              "    <tr>\n",
              "      <th>7</th>\n",
              "      <td>1</td>\n",
              "      <td>1</td>\n",
              "      <td>Peuchen, Major. Arthur Godfrey</td>\n",
              "      <td>male</td>\n",
              "      <td>52.0</td>\n",
              "      <td>0</td>\n",
              "      <td>0</td>\n",
              "      <td>113786</td>\n",
              "      <td>30.5000</td>\n",
              "      <td>C104</td>\n",
              "      <td>S</td>\n",
              "      <td>NaN</td>\n",
              "      <td>Toronto, ON</td>\n",
              "    </tr>\n",
              "    <tr>\n",
              "      <th>8</th>\n",
              "      <td>2</td>\n",
              "      <td>0</td>\n",
              "      <td>Ashby, Mr. John</td>\n",
              "      <td>male</td>\n",
              "      <td>57.0</td>\n",
              "      <td>0</td>\n",
              "      <td>0</td>\n",
              "      <td>244346</td>\n",
              "      <td>13.0000</td>\n",
              "      <td>NaN</td>\n",
              "      <td>S</td>\n",
              "      <td>NaN</td>\n",
              "      <td>West Hoboken, NJ</td>\n",
              "    </tr>\n",
              "    <tr>\n",
              "      <th>9</th>\n",
              "      <td>3</td>\n",
              "      <td>1</td>\n",
              "      <td>Johannesen-Bratthammer, Mr. Bernt</td>\n",
              "      <td>male</td>\n",
              "      <td>NaN</td>\n",
              "      <td>0</td>\n",
              "      <td>0</td>\n",
              "      <td>65306</td>\n",
              "      <td>8.1125</td>\n",
              "      <td>NaN</td>\n",
              "      <td>S</td>\n",
              "      <td>NaN</td>\n",
              "      <td>NaN</td>\n",
              "    </tr>\n",
              "  </tbody>\n",
              "</table>\n",
              "</div>"
            ],
            "text/plain": [
              "   pclass  survived  ... body                 home.dest\n",
              "0       3         0  ...  NaN                       NaN\n",
              "1       2         1  ...  NaN         Ilfracombe, Devon\n",
              "2       2         0  ...  NaN                    London\n",
              "3       3         0  ...  NaN                       NaN\n",
              "4       2         0  ...  NaN  Guernsey / Elizabeth, NJ\n",
              "5       3         1  ...  NaN                       NaN\n",
              "6       1         1  ...  NaN              New York, NY\n",
              "7       1         1  ...  NaN               Toronto, ON\n",
              "8       2         0  ...  NaN          West Hoboken, NJ\n",
              "9       3         1  ...  NaN                       NaN\n",
              "\n",
              "[10 rows x 13 columns]"
            ]
          },
          "metadata": {
            "tags": []
          }
        }
      ]
    },
    {
      "cell_type": "markdown",
      "metadata": {
        "id": "u0lUaYlbgx2N"
      },
      "source": [
        "1. 티켓번호인데 dtype이 object? \n",
        "2. null 값이 있는 feature: age, cabin, body, home.dest"
      ]
    },
    {
      "cell_type": "code",
      "metadata": {
        "id": "yFE5F5jFhN7H"
      },
      "source": [
        "# 불필요한 feature 제거하기: null 값 처리는 age에 대해서만 하면 됨! \n",
        "train_df = train_df.drop(['name', 'ticket', 'cabin', 'body', 'home.dest'], axis=1)\n",
        "test_df = test_df.drop(['name', 'ticket', 'cabin', 'body', 'home.dest'], axis=1)"
      ],
      "execution_count": 200,
      "outputs": []
    },
    {
      "cell_type": "markdown",
      "metadata": {
        "id": "PHJR7-s3iFIs"
      },
      "source": [
        "## 남은 feature이 survived에 영향을 주는지 알아보기 \n",
        "1. survived를 기준으로 생존자그룹과 사망자그룹으로 나눈다. \n",
        "2. 한 feature가 생존자그룹과 사망자그룹에 차이가 있는지 살펴본다. "
      ]
    },
    {
      "cell_type": "code",
      "metadata": {
        "colab": {
          "base_uri": "https://localhost:8080/"
        },
        "id": "n4eRhcdPj7AA",
        "outputId": "55bc88ea-2ef7-41ca-d2fc-529241131e15"
      },
      "source": [
        "train_df['survived'].value_counts()"
      ],
      "execution_count": 201,
      "outputs": [
        {
          "output_type": "execute_result",
          "data": {
            "text/plain": [
              "0    563\n",
              "1    353\n",
              "Name: survived, dtype: int64"
            ]
          },
          "metadata": {
            "tags": []
          },
          "execution_count": 201
        }
      ]
    },
    {
      "cell_type": "markdown",
      "metadata": {
        "id": "aquKfN7BkEoA"
      },
      "source": [
        "생존자(1):사망자(0) ≒ 3:5"
      ]
    },
    {
      "cell_type": "markdown",
      "metadata": {
        "id": "6pwAzrITkMKe"
      },
      "source": [
        "### 범주형 feature(pclass, sex, embarked)가 survived에 영향을 줬는가?"
      ]
    },
    {
      "cell_type": "code",
      "metadata": {
        "colab": {
          "base_uri": "https://localhost:8080/"
        },
        "id": "tsrqJ45fkTD-",
        "outputId": "d1501875-c41f-4c4d-81a8-577f26f1c1b8"
      },
      "source": [
        "# pclass\n",
        "train_df['pclass'].value_counts()"
      ],
      "execution_count": 202,
      "outputs": [
        {
          "output_type": "execute_result",
          "data": {
            "text/plain": [
              "3    498\n",
              "1    230\n",
              "2    188\n",
              "Name: pclass, dtype: int64"
            ]
          },
          "metadata": {
            "tags": []
          },
          "execution_count": 202
        }
      ]
    },
    {
      "cell_type": "code",
      "metadata": {
        "colab": {
          "base_uri": "https://localhost:8080/",
          "height": 203
        },
        "id": "kf2YUadhvR9c",
        "outputId": "4bf6bb74-0967-4fb7-a753-acf92d5862ed"
      },
      "source": [
        "# sex: 여자 1, 남자 0\n",
        "train_df.loc[(train_df['sex']=='female'), 'sex'] = 1\n",
        "train_df.loc[(train_df['sex']=='male'), 'sex'] = 0\n",
        "\n",
        "train_df.head(5)"
      ],
      "execution_count": 203,
      "outputs": [
        {
          "output_type": "execute_result",
          "data": {
            "text/html": [
              "<div>\n",
              "<style scoped>\n",
              "    .dataframe tbody tr th:only-of-type {\n",
              "        vertical-align: middle;\n",
              "    }\n",
              "\n",
              "    .dataframe tbody tr th {\n",
              "        vertical-align: top;\n",
              "    }\n",
              "\n",
              "    .dataframe thead th {\n",
              "        text-align: right;\n",
              "    }\n",
              "</style>\n",
              "<table border=\"1\" class=\"dataframe\">\n",
              "  <thead>\n",
              "    <tr style=\"text-align: right;\">\n",
              "      <th></th>\n",
              "      <th>pclass</th>\n",
              "      <th>survived</th>\n",
              "      <th>sex</th>\n",
              "      <th>age</th>\n",
              "      <th>sibsp</th>\n",
              "      <th>parch</th>\n",
              "      <th>fare</th>\n",
              "      <th>embarked</th>\n",
              "    </tr>\n",
              "  </thead>\n",
              "  <tbody>\n",
              "    <tr>\n",
              "      <th>0</th>\n",
              "      <td>2</td>\n",
              "      <td>1</td>\n",
              "      <td>1</td>\n",
              "      <td>13.0</td>\n",
              "      <td>0</td>\n",
              "      <td>1</td>\n",
              "      <td>19.5000</td>\n",
              "      <td>S</td>\n",
              "    </tr>\n",
              "    <tr>\n",
              "      <th>1</th>\n",
              "      <td>2</td>\n",
              "      <td>1</td>\n",
              "      <td>1</td>\n",
              "      <td>4.0</td>\n",
              "      <td>1</td>\n",
              "      <td>1</td>\n",
              "      <td>23.0000</td>\n",
              "      <td>S</td>\n",
              "    </tr>\n",
              "    <tr>\n",
              "      <th>2</th>\n",
              "      <td>2</td>\n",
              "      <td>1</td>\n",
              "      <td>1</td>\n",
              "      <td>30.0</td>\n",
              "      <td>1</td>\n",
              "      <td>0</td>\n",
              "      <td>13.8583</td>\n",
              "      <td>C</td>\n",
              "    </tr>\n",
              "    <tr>\n",
              "      <th>3</th>\n",
              "      <td>3</td>\n",
              "      <td>0</td>\n",
              "      <td>0</td>\n",
              "      <td>NaN</td>\n",
              "      <td>0</td>\n",
              "      <td>0</td>\n",
              "      <td>7.7250</td>\n",
              "      <td>Q</td>\n",
              "    </tr>\n",
              "    <tr>\n",
              "      <th>4</th>\n",
              "      <td>3</td>\n",
              "      <td>1</td>\n",
              "      <td>1</td>\n",
              "      <td>22.0</td>\n",
              "      <td>0</td>\n",
              "      <td>0</td>\n",
              "      <td>7.7250</td>\n",
              "      <td>Q</td>\n",
              "    </tr>\n",
              "  </tbody>\n",
              "</table>\n",
              "</div>"
            ],
            "text/plain": [
              "   pclass  survived sex   age  sibsp  parch     fare embarked\n",
              "0       2         1   1  13.0      0      1  19.5000        S\n",
              "1       2         1   1   4.0      1      1  23.0000        S\n",
              "2       2         1   1  30.0      1      0  13.8583        C\n",
              "3       3         0   0   NaN      0      0   7.7250        Q\n",
              "4       3         1   1  22.0      0      0   7.7250        Q"
            ]
          },
          "metadata": {
            "tags": []
          },
          "execution_count": 203
        }
      ]
    },
    {
      "cell_type": "code",
      "metadata": {
        "colab": {
          "base_uri": "https://localhost:8080/",
          "height": 203
        },
        "id": "AYbmmEKdvRyy",
        "outputId": "7b28f2c9-4c51-4f2f-b1b0-0b9c76a5fe43"
      },
      "source": [
        "# embarked\n",
        "train_df.loc[(train_df['embarked']=='C'), 'embarked'] = 2\n",
        "train_df.loc[(train_df['embarked']=='Q'), 'embarked'] = 1\n",
        "train_df.loc[(train_df['embarked']=='S'), 'embarked'] = 0\n",
        "\n",
        "train_df.head(5)"
      ],
      "execution_count": 204,
      "outputs": [
        {
          "output_type": "execute_result",
          "data": {
            "text/html": [
              "<div>\n",
              "<style scoped>\n",
              "    .dataframe tbody tr th:only-of-type {\n",
              "        vertical-align: middle;\n",
              "    }\n",
              "\n",
              "    .dataframe tbody tr th {\n",
              "        vertical-align: top;\n",
              "    }\n",
              "\n",
              "    .dataframe thead th {\n",
              "        text-align: right;\n",
              "    }\n",
              "</style>\n",
              "<table border=\"1\" class=\"dataframe\">\n",
              "  <thead>\n",
              "    <tr style=\"text-align: right;\">\n",
              "      <th></th>\n",
              "      <th>pclass</th>\n",
              "      <th>survived</th>\n",
              "      <th>sex</th>\n",
              "      <th>age</th>\n",
              "      <th>sibsp</th>\n",
              "      <th>parch</th>\n",
              "      <th>fare</th>\n",
              "      <th>embarked</th>\n",
              "    </tr>\n",
              "  </thead>\n",
              "  <tbody>\n",
              "    <tr>\n",
              "      <th>0</th>\n",
              "      <td>2</td>\n",
              "      <td>1</td>\n",
              "      <td>1</td>\n",
              "      <td>13.0</td>\n",
              "      <td>0</td>\n",
              "      <td>1</td>\n",
              "      <td>19.5000</td>\n",
              "      <td>0</td>\n",
              "    </tr>\n",
              "    <tr>\n",
              "      <th>1</th>\n",
              "      <td>2</td>\n",
              "      <td>1</td>\n",
              "      <td>1</td>\n",
              "      <td>4.0</td>\n",
              "      <td>1</td>\n",
              "      <td>1</td>\n",
              "      <td>23.0000</td>\n",
              "      <td>0</td>\n",
              "    </tr>\n",
              "    <tr>\n",
              "      <th>2</th>\n",
              "      <td>2</td>\n",
              "      <td>1</td>\n",
              "      <td>1</td>\n",
              "      <td>30.0</td>\n",
              "      <td>1</td>\n",
              "      <td>0</td>\n",
              "      <td>13.8583</td>\n",
              "      <td>2</td>\n",
              "    </tr>\n",
              "    <tr>\n",
              "      <th>3</th>\n",
              "      <td>3</td>\n",
              "      <td>0</td>\n",
              "      <td>0</td>\n",
              "      <td>NaN</td>\n",
              "      <td>0</td>\n",
              "      <td>0</td>\n",
              "      <td>7.7250</td>\n",
              "      <td>1</td>\n",
              "    </tr>\n",
              "    <tr>\n",
              "      <th>4</th>\n",
              "      <td>3</td>\n",
              "      <td>1</td>\n",
              "      <td>1</td>\n",
              "      <td>22.0</td>\n",
              "      <td>0</td>\n",
              "      <td>0</td>\n",
              "      <td>7.7250</td>\n",
              "      <td>1</td>\n",
              "    </tr>\n",
              "  </tbody>\n",
              "</table>\n",
              "</div>"
            ],
            "text/plain": [
              "   pclass  survived sex   age  sibsp  parch     fare embarked\n",
              "0       2         1   1  13.0      0      1  19.5000        0\n",
              "1       2         1   1   4.0      1      1  23.0000        0\n",
              "2       2         1   1  30.0      1      0  13.8583        2\n",
              "3       3         0   0   NaN      0      0   7.7250        1\n",
              "4       3         1   1  22.0      0      0   7.7250        1"
            ]
          },
          "metadata": {
            "tags": []
          },
          "execution_count": 204
        }
      ]
    },
    {
      "cell_type": "code",
      "metadata": {
        "colab": {
          "base_uri": "https://localhost:8080/",
          "height": 895
        },
        "id": "XaHg_2QdkaLN",
        "outputId": "cdefc207-c22b-45bc-9bce-5d0631753bfa"
      },
      "source": [
        "plt.figure(figsize=(12, 15))\n",
        "\n",
        "plt.subplot(3, 2, 1)\n",
        "sns.countplot(x='pclass', hue='survived', data=train_df)\n",
        "\n",
        "plt.subplot(3, 2, 2)\n",
        "sns.countplot(x='survived', hue='pclass', data=train_df)\n",
        "\n",
        "plt.subplot(3, 2, 3)\n",
        "sns.countplot(x='sex', hue='survived', data=train_df)\n",
        "\n",
        "plt.subplot(3, 2, 4)\n",
        "sns.countplot(x='survived', hue='sex', data=train_df)\n",
        "\n",
        "plt.subplot(3, 2, 5)\n",
        "sns.countplot(x='embarked', hue='survived', data=train_df)\n",
        "\n",
        "plt.subplot(3, 2, 6)\n",
        "sns.countplot(x='survived', hue='embarked', data=train_df)"
      ],
      "execution_count": 205,
      "outputs": [
        {
          "output_type": "execute_result",
          "data": {
            "text/plain": [
              "<matplotlib.axes._subplots.AxesSubplot at 0x7f251de1f9d0>"
            ]
          },
          "metadata": {
            "tags": []
          },
          "execution_count": 205
        },
        {
          "output_type": "display_data",
          "data": {
            "image/png": "[encoded data removed]",
            "text/plain": [
              "<Figure size 864x1080 with 6 Axes>"
            ]
          },
          "metadata": {
            "tags": [],
            "needs_background": "light"
          }
        }
      ]
    },
    {
      "cell_type": "markdown",
      "metadata": {
        "id": "_zKdKGNYqMGW"
      },
      "source": [
        "**<생존율>**\n",
        "1.  1등급 > 2등급 > 3등급\\\n",
        "    --1등급 승객들만 사망자보다 생존자가 많다. (2, 3등급 승객들은 사망자가 더 많다.)\n",
        "2. 여자 > 남자\n",
        "3. 율: C > Q > S, 수: S > C > Q"
      ]
    },
    {
      "cell_type": "markdown",
      "metadata": {
        "id": "gcgbs92tuCkD"
      },
      "source": [
        "### 수치형 feature(age, sibsp, parch, fare)이 survived에 영향을 줬는가?"
      ]
    },
    {
      "cell_type": "code",
      "metadata": {
        "id": "pa8Ag-pqu7HY"
      },
      "source": [
        " from scipy import stats"
      ],
      "execution_count": 206,
      "outputs": []
    },
    {
      "cell_type": "code",
      "metadata": {
        "id": "P6G8d45-Tti9"
      },
      "source": [
        "def analyze_valid_features(df, col_name, distribution_check=True):\n",
        "    # survived 기준, 각 그룹 분포 그래프\n",
        "    survived_distribution_graph = sns.FacetGrid(df, col='survived')\n",
        "    survived_distribution_graph.map(plt.hist, col_name, bins=30)\n",
        "\n",
        "    # survived 기준, 각 그룹 표준편차 \n",
        "    survived = df[df['survived']==1]\n",
        "    survived_static = np.array(survived[col_name])\n",
        "    print(\"survived std: %.2f\" % np.std(survived_static))\n",
        "\n",
        "    n_survived = df[df['survived']==0]\n",
        "    n_survived_static = np.array(n_survived[col_name])\n",
        "    print(\"not survived std: %.2f\" % np.std(n_survived_static))\n",
        "\n",
        "    # 두 그룹 평균차이 검정: T-test\n",
        "    t_test = stats.ttest_ind(survived[col_name], n_survived[col_name])\n",
        "    t_test_diff_var = stats.ttest_ind(survived[col_name], n_survived[col_name], equal_var=False)\n",
        "    print(\"assuming equal variance, tstatistic %.3f and pvalue %.3f\" % t_test)\n",
        "    print(\"not assuming equal variance, tstatistic %.3f and pvalue %.3f\" % t_test_diff_var)\n",
        "\n",
        "    # 두 그룹의 분포의 정규성 검정\n",
        "    if distribution_check:\n",
        "        print(\"in survived, wstatistic %.3f and pvalue %.3f\" % stats.shapiro(survived[col_name]))\n",
        "        print(\"in not survived, wstatistic %.3f and pvalue %.3f\" % stats.shapiro(n_survived[col_name]))"
      ],
      "execution_count": 207,
      "outputs": []
    },
    {
      "cell_type": "markdown",
      "metadata": {
        "id": "_K1Nt5pvhesN"
      },
      "source": [
        "#### age\n",
        "null 값이 포함되어 있기 때문에 age가 0 초과인 경우에만 계산 진행"
      ]
    },
    {
      "cell_type": "code",
      "metadata": {
        "colab": {
          "base_uri": "https://localhost:8080/",
          "height": 333
        },
        "id": "fS386lGBYX0F",
        "outputId": "4b0e35ee-17df-4622-a81f-910311174a8a"
      },
      "source": [
        "analyze_valid_features(train_df[train_df['age'] > 0], 'age', distribution_check=True)"
      ],
      "execution_count": 208,
      "outputs": [
        {
          "output_type": "stream",
          "text": [
            "survived std: 14.22\n",
            "not survived std: 13.71\n",
            "assuming equal variance, tstatistic -0.546 and pvalue 0.585\n",
            "not assuming equal variance, tstatistic -0.543 and pvalue 0.587\n",
            "in survived, wstatistic 0.982 and pvalue 0.001\n",
            "in not survived, wstatistic 0.968 and pvalue 0.000\n"
          ],
          "name": "stdout"
        },
        {
          "output_type": "display_data",
          "data": {
            "image/png": "[encoded data removed]",
            "text/plain": [
              "<Figure size 432x216 with 2 Axes>"
            ]
          },
          "metadata": {
            "tags": [],
            "needs_background": "light"
          }
        }
      ]
    },
    {
      "cell_type": "markdown",
      "metadata": {
        "id": "sc2ELuCghcKn"
      },
      "source": [
        "survived, n_survived 간에 차이가 거의 없다. \\\n",
        "= age는 영향력이 큰 feature가 아니다."
      ]
    },
    {
      "cell_type": "markdown",
      "metadata": {
        "id": "-tXUFcepiFPC"
      },
      "source": [
        "#### sibsp"
      ]
    },
    {
      "cell_type": "code",
      "metadata": {
        "colab": {
          "base_uri": "https://localhost:8080/",
          "height": 297
        },
        "id": "WV8I7_2tYrD9",
        "outputId": "499ceeee-e1fa-433b-e089-063b02def82f"
      },
      "source": [
        "analyze_valid_features(train_df, 'sibsp', distribution_check=False)"
      ],
      "execution_count": 209,
      "outputs": [
        {
          "output_type": "stream",
          "text": [
            "survived std: 0.64\n",
            "not survived std: 1.34\n",
            "assuming equal variance, tstatistic -2.118 and pvalue 0.034\n",
            "not assuming equal variance, tstatistic -2.446 and pvalue 0.015\n"
          ],
          "name": "stdout"
        },
        {
          "output_type": "display_data",
          "data": {
            "image/png": "[encoded data removed]",
            "text/plain": [
              "<Figure size 432x216 with 2 Axes>"
            ]
          },
          "metadata": {
            "tags": [],
            "needs_background": "light"
          }
        }
      ]
    },
    {
      "cell_type": "markdown",
      "metadata": {
        "id": "cmR7-Xr7icW-"
      },
      "source": [
        "p value가 0.05 미만이므로 std 차이는 의미가 있다. "
      ]
    },
    {
      "cell_type": "markdown",
      "metadata": {
        "id": "XWoV4aUNip4G"
      },
      "source": [
        "#### parch"
      ]
    },
    {
      "cell_type": "code",
      "metadata": {
        "colab": {
          "base_uri": "https://localhost:8080/",
          "height": 333
        },
        "id": "1IfTdpWdYyqb",
        "outputId": "b7edd5f3-ff1b-4748-e78d-2c4319a7a9d9"
      },
      "source": [
        "analyze_valid_features(train_df, 'parch', distribution_check=True)"
      ],
      "execution_count": 210,
      "outputs": [
        {
          "output_type": "stream",
          "text": [
            "survived std: 0.74\n",
            "not survived std: 0.89\n",
            "assuming equal variance, tstatistic 1.865 and pvalue 0.063\n",
            "not assuming equal variance, tstatistic 1.942 and pvalue 0.052\n",
            "in survived, wstatistic 0.630 and pvalue 0.000\n",
            "in not survived, wstatistic 0.421 and pvalue 0.000\n"
          ],
          "name": "stdout"
        },
        {
          "output_type": "display_data",
          "data": {
            "image/png": "[encoded data removed]",
            "text/plain": [
              "<Figure size 432x216 with 2 Axes>"
            ]
          },
          "metadata": {
            "tags": [],
            "needs_background": "light"
          }
        }
      ]
    },
    {
      "cell_type": "markdown",
      "metadata": {
        "id": "fprhC1gNe9ew"
      },
      "source": [
        "p value가 0.05 미만이므로 std 차이는 의미가 있다. "
      ]
    },
    {
      "cell_type": "markdown",
      "metadata": {
        "id": "E3a64zb-i4-h"
      },
      "source": [
        "#### fare"
      ]
    },
    {
      "cell_type": "code",
      "metadata": {
        "colab": {
          "base_uri": "https://localhost:8080/",
          "height": 333
        },
        "id": "aeAfKwHqi8WT",
        "outputId": "7cfa26bd-5006-432f-aa24-c3a18db91d83"
      },
      "source": [
        "analyze_valid_features(train_df, 'fare', distribution_check=True)"
      ],
      "execution_count": 211,
      "outputs": [
        {
          "output_type": "stream",
          "text": [
            "survived std: 60.68\n",
            "not survived std: 33.65\n",
            "assuming equal variance, tstatistic 7.523 and pvalue 0.000\n",
            "not assuming equal variance, tstatistic 6.657 and pvalue 0.000\n",
            "in survived, wstatistic 0.660 and pvalue 0.000\n",
            "in not survived, wstatistic 0.520 and pvalue 0.000\n"
          ],
          "name": "stdout"
        },
        {
          "output_type": "display_data",
          "data": {
            "image/png": "[encoded data removed]",
            "text/plain": [
              "<Figure size 432x216 with 2 Axes>"
            ]
          },
          "metadata": {
            "tags": [],
            "needs_background": "light"
          }
        }
      ]
    },
    {
      "cell_type": "markdown",
      "metadata": {
        "id": "U-TTx6gNi_pL"
      },
      "source": [
        "p value가 0.05 미만이므로 std 차이는 의미가 있다. "
      ]
    },
    {
      "cell_type": "markdown",
      "metadata": {
        "id": "bL-Afpcc0lSw"
      },
      "source": [
        "# [2-1] 분류 모델 만들기: Logistic Regression\n",
        "기존 회귀분석의 예측값(Y)를 0~1로 제한, \\\n",
        "    * 0.5 보다 크면: 1 \\\n",
        "    * 0.5 보다 작으면: 0         으로 분류하는 방법. \\\n",
        "* 장점: 계수분석을 통한 feature 영향력 해석이 용이하다. \n",
        "* 순서:\n",
        "    1. 결측값 처리\n",
        "        * 결측이 존재하는 데이터 삭제 \\\n",
        "            --주관 개입 X but 중요한 정보를 삭제하게될 수 있다. \n",
        "        * 결측을 평균값, 중앙값, 최빈값 등으로 대체 \\\n",
        "            --데이터를 모두 분석에 활용할 수 있지만 수치 왜곡의 가능성이 있다. \n",
        "    2. train/test dataset분류 후 trainset으로 모델 학습 \n",
        "        * sklearn.linear_model, LogisticRegression\n",
        "    3. 학습결과 평가 \n",
        "        * 평가기준: Confusion Matrix 활용"
      ]
    },
    {
      "cell_type": "markdown",
      "metadata": {
        "id": "Id5eI-o_0rbf"
      },
      "source": [
        "## 결측값 처리"
      ]
    },
    {
      "cell_type": "code",
      "metadata": {
        "colab": {
          "base_uri": "https://localhost:8080/"
        },
        "id": "bOVphptX4UJn",
        "outputId": "5f942c33-4c88-4270-bdd0-ae5bb6ef3f59"
      },
      "source": [
        "print(train_df.info())\n",
        "print(test_df.info())"
      ],
      "execution_count": 212,
      "outputs": [
        {
          "output_type": "stream",
          "text": [
            "<class 'pandas.core.frame.DataFrame'>\n",
            "RangeIndex: 916 entries, 0 to 915\n",
            "Data columns (total 8 columns):\n",
            " #   Column    Non-Null Count  Dtype  \n",
            "---  ------    --------------  -----  \n",
            " 0   pclass    916 non-null    int64  \n",
            " 1   survived  916 non-null    int64  \n",
            " 2   sex       916 non-null    object \n",
            " 3   age       741 non-null    float64\n",
            " 4   sibsp     916 non-null    int64  \n",
            " 5   parch     916 non-null    int64  \n",
            " 6   fare      916 non-null    float64\n",
            " 7   embarked  914 non-null    object \n",
            "dtypes: float64(2), int64(4), object(2)\n",
            "memory usage: 57.4+ KB\n",
            "None\n",
            "<class 'pandas.core.frame.DataFrame'>\n",
            "RangeIndex: 393 entries, 0 to 392\n",
            "Data columns (total 8 columns):\n",
            " #   Column    Non-Null Count  Dtype  \n",
            "---  ------    --------------  -----  \n",
            " 0   pclass    393 non-null    int64  \n",
            " 1   survived  393 non-null    int64  \n",
            " 2   sex       393 non-null    object \n",
            " 3   age       305 non-null    float64\n",
            " 4   sibsp     393 non-null    int64  \n",
            " 5   parch     393 non-null    int64  \n",
            " 6   fare      393 non-null    float64\n",
            " 7   embarked  393 non-null    object \n",
            "dtypes: float64(2), int64(4), object(2)\n",
            "memory usage: 24.7+ KB\n",
            "None\n"
          ],
          "name": "stdout"
        }
      ]
    },
    {
      "cell_type": "code",
      "metadata": {
        "id": "rBILmW1c4aR3"
      },
      "source": [
        "# train_df, test_df의 age \n",
        "age_mean = train_df[train_df['age'] > 0]['age'].mean() # 0으로 기록된 데이터는 평균계산에 포함 X \n",
        "train_df['age'] = train_df['age'].fillna(age_mean)\n",
        "test_df['age'] = test_df['age'].fillna(age_mean)  "
      ],
      "execution_count": 213,
      "outputs": []
    },
    {
      "cell_type": "markdown",
      "metadata": {
        "id": "RqRlLL5N49aY"
      },
      "source": [
        "** Think:* \\\n",
        "train_df['age']의 평균으로 train_df, test_df 의 결측치를 대체했다. \\\n",
        "train_df와 test_df를 합친 뒤 평균을 내야 더 정확하지 않을까? "
      ]
    },
    {
      "cell_type": "code",
      "metadata": {
        "id": "4_1E_1qk6b8U"
      },
      "source": [
        "# train_df의 embarked\n",
        "embarked_mode = train_df['embarked'].value_counts().index[0]  # embarked는 범주형 feature이므로 최빈값으로 대체\n",
        "train_df['embarked'] = train_df['embarked'].fillna(embarked_mode)"
      ],
      "execution_count": 214,
      "outputs": []
    },
    {
      "cell_type": "code",
      "metadata": {
        "colab": {
          "base_uri": "https://localhost:8080/"
        },
        "id": "-7TU_M677aIC",
        "outputId": "17030bc0-d643-4eac-aa60-c2d7b0433e46"
      },
      "source": [
        "print(train_df.info())\n",
        "print(test_df.info())"
      ],
      "execution_count": 215,
      "outputs": [
        {
          "output_type": "stream",
          "text": [
            "<class 'pandas.core.frame.DataFrame'>\n",
            "RangeIndex: 916 entries, 0 to 915\n",
            "Data columns (total 8 columns):\n",
            " #   Column    Non-Null Count  Dtype  \n",
            "---  ------    --------------  -----  \n",
            " 0   pclass    916 non-null    int64  \n",
            " 1   survived  916 non-null    int64  \n",
            " 2   sex       916 non-null    object \n",
            " 3   age       916 non-null    float64\n",
            " 4   sibsp     916 non-null    int64  \n",
            " 5   parch     916 non-null    int64  \n",
            " 6   fare      916 non-null    float64\n",
            " 7   embarked  916 non-null    int64  \n",
            "dtypes: float64(2), int64(5), object(1)\n",
            "memory usage: 57.4+ KB\n",
            "None\n",
            "<class 'pandas.core.frame.DataFrame'>\n",
            "RangeIndex: 393 entries, 0 to 392\n",
            "Data columns (total 8 columns):\n",
            " #   Column    Non-Null Count  Dtype  \n",
            "---  ------    --------------  -----  \n",
            " 0   pclass    393 non-null    int64  \n",
            " 1   survived  393 non-null    int64  \n",
            " 2   sex       393 non-null    object \n",
            " 3   age       393 non-null    float64\n",
            " 4   sibsp     393 non-null    int64  \n",
            " 5   parch     393 non-null    int64  \n",
            " 6   fare      393 non-null    float64\n",
            " 7   embarked  393 non-null    object \n",
            "dtypes: float64(2), int64(4), object(2)\n",
            "memory usage: 24.7+ KB\n",
            "None\n"
          ],
          "name": "stdout"
        }
      ]
    },
    {
      "cell_type": "markdown",
      "metadata": {
        "id": "eLv79m-w7-VW"
      },
      "source": [
        "## 원핫인코딩"
      ]
    },
    {
      "cell_type": "code",
      "metadata": {
        "colab": {
          "base_uri": "https://localhost:8080/",
          "height": 141
        },
        "id": "lQYyHp9F8gCz",
        "outputId": "a080c07a-7db0-40ae-95cd-1b2afc0b73bc"
      },
      "source": [
        "train_df.loc[(train_df['sex']==1), 'sex'] = 'female'\n",
        "train_df.loc[(train_df['sex']==0), 'sex'] = 'male'\n",
        "train_df.loc[(train_df['embarked']==2), 'embarked'] = 'C'\n",
        "train_df.loc[(train_df['embarked']==1), 'embarked'] = 'Q'\n",
        "train_df.loc[(train_df['embarked']==0), 'embarked'] = 'S'\n",
        "\n",
        "train_df.head(3)"
      ],
      "execution_count": 216,
      "outputs": [
        {
          "output_type": "execute_result",
          "data": {
            "text/html": [
              "<div>\n",
              "<style scoped>\n",
              "    .dataframe tbody tr th:only-of-type {\n",
              "        vertical-align: middle;\n",
              "    }\n",
              "\n",
              "    .dataframe tbody tr th {\n",
              "        vertical-align: top;\n",
              "    }\n",
              "\n",
              "    .dataframe thead th {\n",
              "        text-align: right;\n",
              "    }\n",
              "</style>\n",
              "<table border=\"1\" class=\"dataframe\">\n",
              "  <thead>\n",
              "    <tr style=\"text-align: right;\">\n",
              "      <th></th>\n",
              "      <th>pclass</th>\n",
              "      <th>survived</th>\n",
              "      <th>sex</th>\n",
              "      <th>age</th>\n",
              "      <th>sibsp</th>\n",
              "      <th>parch</th>\n",
              "      <th>fare</th>\n",
              "      <th>embarked</th>\n",
              "    </tr>\n",
              "  </thead>\n",
              "  <tbody>\n",
              "    <tr>\n",
              "      <th>0</th>\n",
              "      <td>2</td>\n",
              "      <td>1</td>\n",
              "      <td>female</td>\n",
              "      <td>13.0</td>\n",
              "      <td>0</td>\n",
              "      <td>1</td>\n",
              "      <td>19.5000</td>\n",
              "      <td>S</td>\n",
              "    </tr>\n",
              "    <tr>\n",
              "      <th>1</th>\n",
              "      <td>2</td>\n",
              "      <td>1</td>\n",
              "      <td>female</td>\n",
              "      <td>4.0</td>\n",
              "      <td>1</td>\n",
              "      <td>1</td>\n",
              "      <td>23.0000</td>\n",
              "      <td>S</td>\n",
              "    </tr>\n",
              "    <tr>\n",
              "      <th>2</th>\n",
              "      <td>2</td>\n",
              "      <td>1</td>\n",
              "      <td>female</td>\n",
              "      <td>30.0</td>\n",
              "      <td>1</td>\n",
              "      <td>0</td>\n",
              "      <td>13.8583</td>\n",
              "      <td>C</td>\n",
              "    </tr>\n",
              "  </tbody>\n",
              "</table>\n",
              "</div>"
            ],
            "text/plain": [
              "   pclass  survived     sex   age  sibsp  parch     fare embarked\n",
              "0       2         1  female  13.0      0      1  19.5000        S\n",
              "1       2         1  female   4.0      1      1  23.0000        S\n",
              "2       2         1  female  30.0      1      0  13.8583        C"
            ]
          },
          "metadata": {
            "tags": []
          },
          "execution_count": 216
        }
      ]
    },
    {
      "cell_type": "markdown",
      "metadata": {
        "id": "0oVlhjYS-XhK"
      },
      "source": [
        "** Think:* \\\n",
        "이 작업 너무 바보같다.."
      ]
    },
    {
      "cell_type": "code",
      "metadata": {
        "colab": {
          "base_uri": "https://localhost:8080/"
        },
        "id": "kOQ7buiw-Kxa",
        "outputId": "a563b628-243a-40f7-c18c-fc7656f25be6"
      },
      "source": [
        "whole_df = train_df.append(test_df)\n",
        "whole_df.info()"
      ],
      "execution_count": 217,
      "outputs": [
        {
          "output_type": "stream",
          "text": [
            "<class 'pandas.core.frame.DataFrame'>\n",
            "Int64Index: 1309 entries, 0 to 392\n",
            "Data columns (total 8 columns):\n",
            " #   Column    Non-Null Count  Dtype  \n",
            "---  ------    --------------  -----  \n",
            " 0   pclass    1309 non-null   int64  \n",
            " 1   survived  1309 non-null   int64  \n",
            " 2   sex       1309 non-null   object \n",
            " 3   age       1309 non-null   float64\n",
            " 4   sibsp     1309 non-null   int64  \n",
            " 5   parch     1309 non-null   int64  \n",
            " 6   fare      1309 non-null   float64\n",
            " 7   embarked  1309 non-null   object \n",
            "dtypes: float64(2), int64(4), object(2)\n",
            "memory usage: 92.0+ KB\n"
          ],
          "name": "stdout"
        }
      ]
    },
    {
      "cell_type": "code",
      "metadata": {
        "colab": {
          "base_uri": "https://localhost:8080/"
        },
        "id": "jja5ILTA8nqY",
        "outputId": "0b882278-b21d-4c9b-817e-77cde3857a84"
      },
      "source": [
        "train_idx = len(train_df)\n",
        "\n",
        "whole_df_encoded = pd.get_dummies(whole_df)\n",
        "train_df = whole_df_encoded[:train_idx]\n",
        "test_df = whole_df_encoded[train_idx:]\n",
        "\n",
        "print(len(train_df), len(test_df))"
      ],
      "execution_count": 218,
      "outputs": [
        {
          "output_type": "stream",
          "text": [
            "916 393\n"
          ],
          "name": "stdout"
        }
      ]
    },
    {
      "cell_type": "code",
      "metadata": {
        "colab": {
          "base_uri": "https://localhost:8080/",
          "height": 265
        },
        "id": "3ghP8x-P9Gz9",
        "outputId": "25e7c911-2a76-41ab-e29e-4f22207598e1"
      },
      "source": [
        "display(train_df.head(3))\n",
        "display(test_df.head(3))"
      ],
      "execution_count": 219,
      "outputs": [
        {
          "output_type": "display_data",
          "data": {
            "text/html": [
              "<div>\n",
              "<style scoped>\n",
              "    .dataframe tbody tr th:only-of-type {\n",
              "        vertical-align: middle;\n",
              "    }\n",
              "\n",
              "    .dataframe tbody tr th {\n",
              "        vertical-align: top;\n",
              "    }\n",
              "\n",
              "    .dataframe thead th {\n",
              "        text-align: right;\n",
              "    }\n",
              "</style>\n",
              "<table border=\"1\" class=\"dataframe\">\n",
              "  <thead>\n",
              "    <tr style=\"text-align: right;\">\n",
              "      <th></th>\n",
              "      <th>pclass</th>\n",
              "      <th>survived</th>\n",
              "      <th>age</th>\n",
              "      <th>sibsp</th>\n",
              "      <th>parch</th>\n",
              "      <th>fare</th>\n",
              "      <th>sex_female</th>\n",
              "      <th>sex_male</th>\n",
              "      <th>embarked_C</th>\n",
              "      <th>embarked_Q</th>\n",
              "      <th>embarked_S</th>\n",
              "    </tr>\n",
              "  </thead>\n",
              "  <tbody>\n",
              "    <tr>\n",
              "      <th>0</th>\n",
              "      <td>2</td>\n",
              "      <td>1</td>\n",
              "      <td>13.0</td>\n",
              "      <td>0</td>\n",
              "      <td>1</td>\n",
              "      <td>19.5000</td>\n",
              "      <td>1</td>\n",
              "      <td>0</td>\n",
              "      <td>0</td>\n",
              "      <td>0</td>\n",
              "      <td>1</td>\n",
              "    </tr>\n",
              "    <tr>\n",
              "      <th>1</th>\n",
              "      <td>2</td>\n",
              "      <td>1</td>\n",
              "      <td>4.0</td>\n",
              "      <td>1</td>\n",
              "      <td>1</td>\n",
              "      <td>23.0000</td>\n",
              "      <td>1</td>\n",
              "      <td>0</td>\n",
              "      <td>0</td>\n",
              "      <td>0</td>\n",
              "      <td>1</td>\n",
              "    </tr>\n",
              "    <tr>\n",
              "      <th>2</th>\n",
              "      <td>2</td>\n",
              "      <td>1</td>\n",
              "      <td>30.0</td>\n",
              "      <td>1</td>\n",
              "      <td>0</td>\n",
              "      <td>13.8583</td>\n",
              "      <td>1</td>\n",
              "      <td>0</td>\n",
              "      <td>1</td>\n",
              "      <td>0</td>\n",
              "      <td>0</td>\n",
              "    </tr>\n",
              "  </tbody>\n",
              "</table>\n",
              "</div>"
            ],
            "text/plain": [
              "   pclass  survived   age  sibsp  ...  sex_male  embarked_C  embarked_Q  embarked_S\n",
              "0       2         1  13.0      0  ...         0           0           0           1\n",
              "1       2         1   4.0      1  ...         0           0           0           1\n",
              "2       2         1  30.0      1  ...         0           1           0           0\n",
              "\n",
              "[3 rows x 11 columns]"
            ]
          },
          "metadata": {
            "tags": []
          }
        },
        {
          "output_type": "display_data",
          "data": {
            "text/html": [
              "<div>\n",
              "<style scoped>\n",
              "    .dataframe tbody tr th:only-of-type {\n",
              "        vertical-align: middle;\n",
              "    }\n",
              "\n",
              "    .dataframe tbody tr th {\n",
              "        vertical-align: top;\n",
              "    }\n",
              "\n",
              "    .dataframe thead th {\n",
              "        text-align: right;\n",
              "    }\n",
              "</style>\n",
              "<table border=\"1\" class=\"dataframe\">\n",
              "  <thead>\n",
              "    <tr style=\"text-align: right;\">\n",
              "      <th></th>\n",
              "      <th>pclass</th>\n",
              "      <th>survived</th>\n",
              "      <th>age</th>\n",
              "      <th>sibsp</th>\n",
              "      <th>parch</th>\n",
              "      <th>fare</th>\n",
              "      <th>sex_female</th>\n",
              "      <th>sex_male</th>\n",
              "      <th>embarked_C</th>\n",
              "      <th>embarked_Q</th>\n",
              "      <th>embarked_S</th>\n",
              "    </tr>\n",
              "  </thead>\n",
              "  <tbody>\n",
              "    <tr>\n",
              "      <th>0</th>\n",
              "      <td>3</td>\n",
              "      <td>0</td>\n",
              "      <td>38.0</td>\n",
              "      <td>0</td>\n",
              "      <td>0</td>\n",
              "      <td>7.8958</td>\n",
              "      <td>0</td>\n",
              "      <td>1</td>\n",
              "      <td>0</td>\n",
              "      <td>0</td>\n",
              "      <td>1</td>\n",
              "    </tr>\n",
              "    <tr>\n",
              "      <th>1</th>\n",
              "      <td>2</td>\n",
              "      <td>1</td>\n",
              "      <td>21.0</td>\n",
              "      <td>0</td>\n",
              "      <td>1</td>\n",
              "      <td>21.0000</td>\n",
              "      <td>1</td>\n",
              "      <td>0</td>\n",
              "      <td>0</td>\n",
              "      <td>0</td>\n",
              "      <td>1</td>\n",
              "    </tr>\n",
              "    <tr>\n",
              "      <th>2</th>\n",
              "      <td>2</td>\n",
              "      <td>0</td>\n",
              "      <td>42.0</td>\n",
              "      <td>1</td>\n",
              "      <td>0</td>\n",
              "      <td>27.0000</td>\n",
              "      <td>0</td>\n",
              "      <td>1</td>\n",
              "      <td>0</td>\n",
              "      <td>0</td>\n",
              "      <td>1</td>\n",
              "    </tr>\n",
              "  </tbody>\n",
              "</table>\n",
              "</div>"
            ],
            "text/plain": [
              "   pclass  survived   age  sibsp  ...  sex_male  embarked_C  embarked_Q  embarked_S\n",
              "0       3         0  38.0      0  ...         1           0           0           1\n",
              "1       2         1  21.0      0  ...         0           0           0           1\n",
              "2       2         0  42.0      1  ...         1           0           0           1\n",
              "\n",
              "[3 rows x 11 columns]"
            ]
          },
          "metadata": {
            "tags": []
          }
        }
      ]
    },
    {
      "cell_type": "markdown",
      "metadata": {
        "id": "uzKw8G3A9RRz"
      },
      "source": [
        "## Logistic Regression 학습하기"
      ]
    },
    {
      "cell_type": "code",
      "metadata": {
        "id": "sJcCKmh7_AeD"
      },
      "source": [
        "from sklearn.linear_model import LogisticRegression"
      ],
      "execution_count": 220,
      "outputs": []
    },
    {
      "cell_type": "code",
      "metadata": {
        "colab": {
          "base_uri": "https://localhost:8080/"
        },
        "id": "FKBsHjc8_LFj",
        "outputId": "9c6b7f52-cdaa-4211-8d25-2a0631f3a725"
      },
      "source": [
        "x_train, y_train = train_df.loc[:, train_df.columns != 'survived'].values, train_df['survived'].values\n",
        "x_test, y_test = test_df.loc[:, test_df.columns != 'survived'].values, test_df['survived'].values\n",
        "\n",
        "print(x_train.shape, y_train.shape)\n",
        "print(x_test.shape, y_test.shape)"
      ],
      "execution_count": 221,
      "outputs": [
        {
          "output_type": "stream",
          "text": [
            "(916, 10) (916,)\n",
            "(393, 10) (393,)\n"
          ],
          "name": "stdout"
        }
      ]
    },
    {
      "cell_type": "code",
      "metadata": {
        "colab": {
          "base_uri": "https://localhost:8080/"
        },
        "id": "-DQ5VDmq_0zk",
        "outputId": "9a552208-d089-486e-c621-fdd5ad0f93ad"
      },
      "source": [
        "lr = LogisticRegression(random_state=10)\n",
        "\n",
        "lr.fit(x_train, y_train)"
      ],
      "execution_count": 222,
      "outputs": [
        {
          "output_type": "execute_result",
          "data": {
            "text/plain": [
              "LogisticRegression(C=1.0, class_weight=None, dual=False, fit_intercept=True,\n",
              "                   intercept_scaling=1, l1_ratio=None, max_iter=100,\n",
              "                   multi_class='auto', n_jobs=None, penalty='l2',\n",
              "                   random_state=10, solver='lbfgs', tol=0.0001, verbose=0,\n",
              "                   warm_start=False)"
            ]
          },
          "metadata": {
            "tags": []
          },
          "execution_count": 222
        }
      ]
    },
    {
      "cell_type": "code",
      "metadata": {
        "id": "uSMlXrLS_-6D"
      },
      "source": [
        "y_pred = lr.predict(x_test)"
      ],
      "execution_count": 223,
      "outputs": []
    },
    {
      "cell_type": "code",
      "metadata": {
        "id": "0r73BI5QAHEH"
      },
      "source": [
        "y_pred_probability = lr.predict_proba(x_test)[:,1]"
      ],
      "execution_count": 224,
      "outputs": []
    },
    {
      "cell_type": "markdown",
      "metadata": {
        "id": "kccY3A1_AM4F"
      },
      "source": [
        "## 결과 평가하기: Confusion Matrix\n"
      ]
    },
    {
      "cell_type": "code",
      "metadata": {
        "id": "WNTSEAoQdGU2"
      },
      "source": [
        "from sklearn.metrics import confusion_matrix"
      ],
      "execution_count": 225,
      "outputs": []
    },
    {
      "cell_type": "code",
      "metadata": {
        "colab": {
          "base_uri": "https://localhost:8080/"
        },
        "id": "p1lmwBrydNTO",
        "outputId": "8775bedb-ab76-4800-c2cb-e0940b5e5d93"
      },
      "source": [
        "confusion_matrix = confusion_matrix(y_true=y_test, y_pred=y_pred)\n",
        "confusion_matrix"
      ],
      "execution_count": 226,
      "outputs": [
        {
          "output_type": "execute_result",
          "data": {
            "text/plain": [
              "array([[214,  32],\n",
              "       [ 48,  99]])"
            ]
          },
          "metadata": {
            "tags": []
          },
          "execution_count": 226
        }
      ]
    },
    {
      "cell_type": "code",
      "metadata": {
        "id": "x1NwrOtjATv6"
      },
      "source": [
        "from sklearn.metrics import accuracy_score, precision_score, recall_score, f1_score"
      ],
      "execution_count": 227,
      "outputs": []
    },
    {
      "cell_type": "code",
      "metadata": {
        "colab": {
          "base_uri": "https://localhost:8080/"
        },
        "id": "GyrprvqHct6P",
        "outputId": "b750d561-bca8-4f67-883b-a3e224211a79"
      },
      "source": [
        "print(\"accuracy: %.2f\" % accuracy_score(y_test, y_pred))\n",
        "print(\"precision: %.3f\" % precision_score(y_test, y_pred))\n",
        "print(\"recall: %.3f\" % recall_score(y_test, y_pred))\n",
        "print(\"f1: %.3f\" % f1_score(y_test, y_pred))"
      ],
      "execution_count": 228,
      "outputs": [
        {
          "output_type": "stream",
          "text": [
            "accuracy: 0.80\n",
            "precision: 0.756\n",
            "recall: 0.673\n",
            "f1: 0.712\n"
          ],
          "name": "stdout"
        }
      ]
    },
    {
      "cell_type": "markdown",
      "metadata": {
        "id": "NHLgDIxTfRT-"
      },
      "source": [
        "AUC(Area Under Curve) \\\n",
        "- Logistic Regressoin으로 분류된 y_pred(0 또는 1의 값)이 아니라 \\\n",
        "    y_pred_probability(0에서 1사이의 확률)을 사용할 것. \n",
        "- 1에 가까울수록 좋은 모델. "
      ]
    },
    {
      "cell_type": "code",
      "metadata": {
        "colab": {
          "base_uri": "https://localhost:8080/"
        },
        "id": "kelApfoodUaG",
        "outputId": "21cc248e-d43d-46ca-fc2a-90753830baa6"
      },
      "source": [
        "from sklearn.metrics import roc_curve, roc_auc_score\n",
        "\n",
        "false_positive_rate, true_positive_rate, thresholds = roc_curve(y_test, y_pred_probability)\n",
        "roc_auc = roc_auc_score(y_test, y_pred_probability)\n",
        "print(\"auc: %.3f\" % roc_auc)"
      ],
      "execution_count": 229,
      "outputs": [
        {
          "output_type": "stream",
          "text": [
            "auc: 0.838\n"
          ],
          "name": "stdout"
        }
      ]
    },
    {
      "cell_type": "code",
      "metadata": {
        "colab": {
          "base_uri": "https://localhost:8080/",
          "height": 295
        },
        "id": "cA8nmoZ2d8HA",
        "outputId": "00b18809-8ad3-4d7c-c3cf-3a9b266f7998"
      },
      "source": [
        "plt.plot(false_positive_rate, true_positive_rate, \n",
        "         label='ROC curve (area = %.3f)' % roc_auc, \n",
        "         color='red', \n",
        "         linewidth=4.0)\n",
        "plt.plot([0, 1], [0, 1], 'k--')\n",
        "plt.xlim([0, 1])\n",
        "plt.ylim([0, 1])\n",
        "plt.xlabel(\"False Positive Rate\")\n",
        "plt.ylabel(\"True Positive Rate\")\n",
        "plt.title(\"ROC curve of Logistic Regression\")\n",
        "plt.legend(loc = \"lower right\")\n",
        "plt.show()"
      ],
      "execution_count": 230,
      "outputs": [
        {
          "output_type": "display_data",
          "data": {
            "image/png": "[encoded data removed]",
            "text/plain": [
              "<Figure size 432x288 with 1 Axes>"
            ]
          },
          "metadata": {
            "tags": [],
            "needs_background": "light"
          }
        }
      ]
    },
    {
      "cell_type": "markdown",
      "metadata": {
        "id": "S1e1jsYmerfI"
      },
      "source": [
        "# [2-2] 분류 모델 만들기: Decision Tree \n",
        "- feature 단위로 조건을 분기하여 정답 집합을 좁혀나가는 방법. "
      ]
    },
    {
      "cell_type": "code",
      "metadata": {
        "colab": {
          "base_uri": "https://localhost:8080/",
          "height": 385
        },
        "id": "uicV5XXGf-mX",
        "outputId": "c1d9427d-91cd-454b-c595-a62bf81f8fba"
      },
      "source": [
        "from sklearn.tree import DecisionTreeClassifier\n",
        "\n",
        "# 1. 모델 객체 만들기\n",
        "decision_tree = DecisionTreeClassifier()\n",
        "\n",
        "# 2. train dataset으로 모델 학습시키기\n",
        "decision_tree.fit(x_train, y_train)\n",
        "\n",
        "# 3. test data로 inference\n",
        "y_pred_decisiontree = decision_tree.predict(x_test)\n",
        "y_pred_probability_decisiontree = decision_tree.predict_proba(x_test)[:, 1]\n",
        "\n",
        "# 4. inference 평가하기\n",
        "# 4-1. accuracy, precision, recall, f1 score\n",
        "print(\"accuracy: %.2f\" % accuracy_score(y_test, y_pred_decisiontree))\n",
        "print(\"precision: %.3f\" % precision_score(y_test, y_pred_decisiontree))\n",
        "print(\"recall: %.3f\" % recall_score(y_test, y_pred_decisiontree))\n",
        "print(\"f1: %.3f\" % f1_score(y_test, y_pred_decisiontree))\n",
        "# 4-2. auc score\n",
        "false_positive_rate_decisiontree, true_positive_rate_decisiontree, thresholds = roc_curve(y_test, y_pred_probability_decisiontree)\n",
        "roc_auc_decisiontree = roc_auc_score(y_test, y_pred_probability_decisiontree)\n",
        "print(\"auc: %.3f\" % roc_auc_decisiontree)\n",
        "# 4-3. roc curve \n",
        "plt.plot(false_positive_rate_decisiontree, true_positive_rate_decisiontree, \n",
        "         label='ROC curve (area = %.3f)' % roc_auc_decisiontree, \n",
        "         color='red', \n",
        "         linewidth=4.0)\n",
        "plt.plot([0, 1], [0, 1], 'k--')\n",
        "plt.xlim([0, 1])\n",
        "plt.ylim([0, 1])\n",
        "plt.xlabel(\"False Positive Rate\")\n",
        "plt.ylabel(\"True Positive Rate\")\n",
        "plt.title(\"ROC curve of Decision Tree\")\n",
        "plt.legend(loc = \"lower right\")\n",
        "plt.show()"
      ],
      "execution_count": 231,
      "outputs": [
        {
          "output_type": "stream",
          "text": [
            "accuracy: 0.75\n",
            "precision: 0.676\n",
            "recall: 0.626\n",
            "f1: 0.650\n",
            "auc: 0.738\n"
          ],
          "name": "stdout"
        },
        {
          "output_type": "display_data",
          "data": {
            "image/png": "[encoded data removed]",
            "text/plain": [
              "<Figure size 432x288 with 1 Axes>"
            ]
          },
          "metadata": {
            "tags": [],
            "needs_background": "light"
          }
        }
      ]
    },
    {
      "cell_type": "code",
      "metadata": {
        "colab": {
          "base_uri": "https://localhost:8080/"
        },
        "id": "NfdEh7jejoJW",
        "outputId": "e09d7bc3-cbe5-439c-d521-1d21b357328c"
      },
      "source": [
        "# LogisticRegression vs DecisionTree\n",
        "\n",
        "print(\"<logistic vs decisiontree> \\n\")\n",
        "\n",
        "print(\"accuracy: %.2f vs %.2f\" % (accuracy_score(y_test, y_pred), accuracy_score(y_test, y_pred_decisiontree)))\n",
        "print(\"precision: %.3f vs %.3f\" % (precision_score(y_test, y_pred), precision_score(y_test, y_pred_decisiontree)))\n",
        "print(\"recall: %.3f vs %.3f\" % (recall_score(y_test, y_pred), recall_score(y_test, y_pred_decisiontree)))\n",
        "print(\"f1: %.3f vs %.3f\" % (f1_score(y_test, y_pred), f1_score(y_test, y_pred_decisiontree)))\n",
        "print(\"auc: %.3f vs %.3f\" % (roc_auc, roc_auc_decisiontree))"
      ],
      "execution_count": 232,
      "outputs": [
        {
          "output_type": "stream",
          "text": [
            "<logistic vs decisiontree> \n",
            "\n",
            "accuracy: 0.80 vs 0.75\n",
            "precision: 0.756 vs 0.676\n",
            "recall: 0.673 vs 0.626\n",
            "f1: 0.712 vs 0.650\n",
            "auc: 0.838 vs 0.738\n"
          ],
          "name": "stdout"
        }
      ]
    },
    {
      "cell_type": "markdown",
      "metadata": {
        "id": "MTf8gUdmiqQI"
      },
      "source": [
        "Logistic Regression이 Decision Tree보다 성능이 약간 더 좋다. "
      ]
    },
    {
      "cell_type": "markdown",
      "metadata": {
        "id": "HpgOMw3VkNz3"
      },
      "source": [
        "# [3] 모델 개선하기: feature engineering"
      ]
    },
    {
      "cell_type": "code",
      "metadata": {
        "id": "q2sDt9l5l_pG"
      },
      "source": [
        "train_df = pd.read_csv(train_dataset_file_path)\n",
        "test_df = pd.read_csv(test_dataset_file_path)"
      ],
      "execution_count": 233,
      "outputs": []
    },
    {
      "cell_type": "code",
      "metadata": {
        "colab": {
          "base_uri": "https://localhost:8080/"
        },
        "id": "7P4cgJo_q9Y9",
        "outputId": "7de06a8b-792a-4866-be54-1ce4b6efb772"
      },
      "source": [
        "print(train_df.columns == test_df.columns)\n",
        "print(train_df.columns)"
      ],
      "execution_count": 234,
      "outputs": [
        {
          "output_type": "stream",
          "text": [
            "[ True  True  True  True  True  True  True  True  True  True  True  True\n",
            "  True]\n",
            "Index(['pclass', 'survived', 'name', 'sex', 'age', 'sibsp', 'parch', 'ticket',\n",
            "       'fare', 'cabin', 'embarked', 'body', 'home.dest'],\n",
            "      dtype='object')\n"
          ],
          "name": "stdout"
        }
      ]
    },
    {
      "cell_type": "markdown",
      "metadata": {
        "id": "2uuMFdIznpJF"
      },
      "source": [
        "## 분석에 사용할 feature 고르기\n",
        "* 첫 분석 때 제거했던 feature: name, ticket, cabin, body, home.dest\n",
        "* 지금 분석 때 제거할 feature: ticket, body, home.dest\n",
        "    - name, cabin feature을 사용해보기로 함. "
      ]
    },
    {
      "cell_type": "code",
      "metadata": {
        "id": "IR5PFkTPrjhE"
      },
      "source": [
        "train_df = train_df.drop(train_df[['ticket', 'body', 'home.dest']], axis=1)\n",
        "test_df = test_df.drop(test_df[['ticket', 'body', 'home.dest']], axis=1)"
      ],
      "execution_count": 235,
      "outputs": []
    },
    {
      "cell_type": "code",
      "metadata": {
        "colab": {
          "base_uri": "https://localhost:8080/",
          "height": 265
        },
        "id": "_uZj2EkQsL-J",
        "outputId": "a51a9e95-1cc6-4985-d549-904450828ba7"
      },
      "source": [
        "display(train_df.head(3))\n",
        "display(test_df.head(3))"
      ],
      "execution_count": 236,
      "outputs": [
        {
          "output_type": "display_data",
          "data": {
            "text/html": [
              "<div>\n",
              "<style scoped>\n",
              "    .dataframe tbody tr th:only-of-type {\n",
              "        vertical-align: middle;\n",
              "    }\n",
              "\n",
              "    .dataframe tbody tr th {\n",
              "        vertical-align: top;\n",
              "    }\n",
              "\n",
              "    .dataframe thead th {\n",
              "        text-align: right;\n",
              "    }\n",
              "</style>\n",
              "<table border=\"1\" class=\"dataframe\">\n",
              "  <thead>\n",
              "    <tr style=\"text-align: right;\">\n",
              "      <th></th>\n",
              "      <th>pclass</th>\n",
              "      <th>survived</th>\n",
              "      <th>name</th>\n",
              "      <th>sex</th>\n",
              "      <th>age</th>\n",
              "      <th>sibsp</th>\n",
              "      <th>parch</th>\n",
              "      <th>fare</th>\n",
              "      <th>cabin</th>\n",
              "      <th>embarked</th>\n",
              "    </tr>\n",
              "  </thead>\n",
              "  <tbody>\n",
              "    <tr>\n",
              "      <th>0</th>\n",
              "      <td>2</td>\n",
              "      <td>1</td>\n",
              "      <td>Mellinger, Miss. Madeleine Violet</td>\n",
              "      <td>female</td>\n",
              "      <td>13.0</td>\n",
              "      <td>0</td>\n",
              "      <td>1</td>\n",
              "      <td>19.5000</td>\n",
              "      <td>NaN</td>\n",
              "      <td>S</td>\n",
              "    </tr>\n",
              "    <tr>\n",
              "      <th>1</th>\n",
              "      <td>2</td>\n",
              "      <td>1</td>\n",
              "      <td>Wells, Miss. Joan</td>\n",
              "      <td>female</td>\n",
              "      <td>4.0</td>\n",
              "      <td>1</td>\n",
              "      <td>1</td>\n",
              "      <td>23.0000</td>\n",
              "      <td>NaN</td>\n",
              "      <td>S</td>\n",
              "    </tr>\n",
              "    <tr>\n",
              "      <th>2</th>\n",
              "      <td>2</td>\n",
              "      <td>1</td>\n",
              "      <td>Duran y More, Miss. Florentina</td>\n",
              "      <td>female</td>\n",
              "      <td>30.0</td>\n",
              "      <td>1</td>\n",
              "      <td>0</td>\n",
              "      <td>13.8583</td>\n",
              "      <td>NaN</td>\n",
              "      <td>C</td>\n",
              "    </tr>\n",
              "  </tbody>\n",
              "</table>\n",
              "</div>"
            ],
            "text/plain": [
              "   pclass  survived                               name  ...     fare  cabin  embarked\n",
              "0       2         1  Mellinger, Miss. Madeleine Violet  ...  19.5000    NaN         S\n",
              "1       2         1                  Wells, Miss. Joan  ...  23.0000    NaN         S\n",
              "2       2         1     Duran y More, Miss. Florentina  ...  13.8583    NaN         C\n",
              "\n",
              "[3 rows x 10 columns]"
            ]
          },
          "metadata": {
            "tags": []
          }
        },
        {
          "output_type": "display_data",
          "data": {
            "text/html": [
              "<div>\n",
              "<style scoped>\n",
              "    .dataframe tbody tr th:only-of-type {\n",
              "        vertical-align: middle;\n",
              "    }\n",
              "\n",
              "    .dataframe tbody tr th {\n",
              "        vertical-align: top;\n",
              "    }\n",
              "\n",
              "    .dataframe thead th {\n",
              "        text-align: right;\n",
              "    }\n",
              "</style>\n",
              "<table border=\"1\" class=\"dataframe\">\n",
              "  <thead>\n",
              "    <tr style=\"text-align: right;\">\n",
              "      <th></th>\n",
              "      <th>pclass</th>\n",
              "      <th>survived</th>\n",
              "      <th>name</th>\n",
              "      <th>sex</th>\n",
              "      <th>age</th>\n",
              "      <th>sibsp</th>\n",
              "      <th>parch</th>\n",
              "      <th>fare</th>\n",
              "      <th>cabin</th>\n",
              "      <th>embarked</th>\n",
              "    </tr>\n",
              "  </thead>\n",
              "  <tbody>\n",
              "    <tr>\n",
              "      <th>0</th>\n",
              "      <td>3</td>\n",
              "      <td>0</td>\n",
              "      <td>Rekic, Mr. Tido</td>\n",
              "      <td>male</td>\n",
              "      <td>38.0</td>\n",
              "      <td>0</td>\n",
              "      <td>0</td>\n",
              "      <td>7.8958</td>\n",
              "      <td>NaN</td>\n",
              "      <td>S</td>\n",
              "    </tr>\n",
              "    <tr>\n",
              "      <th>1</th>\n",
              "      <td>2</td>\n",
              "      <td>1</td>\n",
              "      <td>Phillips, Miss. Alice Frances Louisa</td>\n",
              "      <td>female</td>\n",
              "      <td>21.0</td>\n",
              "      <td>0</td>\n",
              "      <td>1</td>\n",
              "      <td>21.0000</td>\n",
              "      <td>NaN</td>\n",
              "      <td>S</td>\n",
              "    </tr>\n",
              "    <tr>\n",
              "      <th>2</th>\n",
              "      <td>2</td>\n",
              "      <td>0</td>\n",
              "      <td>Jacobsohn, Mr. Sidney Samuel</td>\n",
              "      <td>male</td>\n",
              "      <td>42.0</td>\n",
              "      <td>1</td>\n",
              "      <td>0</td>\n",
              "      <td>27.0000</td>\n",
              "      <td>NaN</td>\n",
              "      <td>S</td>\n",
              "    </tr>\n",
              "  </tbody>\n",
              "</table>\n",
              "</div>"
            ],
            "text/plain": [
              "   pclass  survived  ... cabin embarked\n",
              "0       3         0  ...   NaN        S\n",
              "1       2         1  ...   NaN        S\n",
              "2       2         0  ...   NaN        S\n",
              "\n",
              "[3 rows x 10 columns]"
            ]
          },
          "metadata": {
            "tags": []
          }
        }
      ]
    },
    {
      "cell_type": "markdown",
      "metadata": {
        "id": "WTuAge5_sjmU"
      },
      "source": [
        "## 결측치 처리하기"
      ]
    },
    {
      "cell_type": "code",
      "metadata": {
        "colab": {
          "base_uri": "https://localhost:8080/"
        },
        "id": "JV0EKV6ouQ21",
        "outputId": "1033f708-3e45-448b-a897-19194a0332c3"
      },
      "source": [
        "whole_df = train_df.append(test_df)\n",
        "whole_df.info()"
      ],
      "execution_count": 237,
      "outputs": [
        {
          "output_type": "stream",
          "text": [
            "<class 'pandas.core.frame.DataFrame'>\n",
            "Int64Index: 1309 entries, 0 to 392\n",
            "Data columns (total 10 columns):\n",
            " #   Column    Non-Null Count  Dtype  \n",
            "---  ------    --------------  -----  \n",
            " 0   pclass    1309 non-null   int64  \n",
            " 1   survived  1309 non-null   int64  \n",
            " 2   name      1309 non-null   object \n",
            " 3   sex       1309 non-null   object \n",
            " 4   age       1046 non-null   float64\n",
            " 5   sibsp     1309 non-null   int64  \n",
            " 6   parch     1309 non-null   int64  \n",
            " 7   fare      1309 non-null   float64\n",
            " 8   cabin     295 non-null    object \n",
            " 9   embarked  1307 non-null   object \n",
            "dtypes: float64(2), int64(4), object(4)\n",
            "memory usage: 112.5+ KB\n"
          ],
          "name": "stdout"
        }
      ]
    },
    {
      "cell_type": "code",
      "metadata": {
        "colab": {
          "base_uri": "https://localhost:8080/"
        },
        "id": "GWI3twxAuctl",
        "outputId": "6b550620-d356-489d-ef19-798b36069617"
      },
      "source": [
        "train_idx = len(train_df)\n",
        "train_idx"
      ],
      "execution_count": 238,
      "outputs": [
        {
          "output_type": "execute_result",
          "data": {
            "text/plain": [
              "916"
            ]
          },
          "metadata": {
            "tags": []
          },
          "execution_count": 238
        }
      ]
    },
    {
      "cell_type": "markdown",
      "metadata": {
        "id": "7yLGyPr4Nt3v"
      },
      "source": [
        "### pclass: 결측치 없음"
      ]
    },
    {
      "cell_type": "code",
      "metadata": {
        "colab": {
          "base_uri": "https://localhost:8080/"
        },
        "id": "8nmNu_chNuVC",
        "outputId": "a5ece3a0-3179-443a-ff6a-b10ed3e76851"
      },
      "source": [
        "whole_df['pclass'].value_counts()"
      ],
      "execution_count": 239,
      "outputs": [
        {
          "output_type": "execute_result",
          "data": {
            "text/plain": [
              "3    709\n",
              "1    323\n",
              "2    277\n",
              "Name: pclass, dtype: int64"
            ]
          },
          "metadata": {
            "tags": []
          },
          "execution_count": 239
        }
      ]
    },
    {
      "cell_type": "code",
      "metadata": {
        "colab": {
          "base_uri": "https://localhost:8080/",
          "height": 352
        },
        "id": "uQbJmzxJOs8P",
        "outputId": "80a7cb1b-5fef-4a8a-d82c-3f8e07c19ce2"
      },
      "source": [
        "plt.figure(figsize=(12, 5))\n",
        "\n",
        "plt.subplot(1, 2, 1)\n",
        "sns.countplot(x='pclass', hue='survived', data=whole_df)\n",
        "\n",
        "plt.subplot(1, 2, 2)\n",
        "sns.countplot(x='survived', hue='pclass', data=whole_df)"
      ],
      "execution_count": 240,
      "outputs": [
        {
          "output_type": "execute_result",
          "data": {
            "text/plain": [
              "<matplotlib.axes._subplots.AxesSubplot at 0x7f251d6beb90>"
            ]
          },
          "metadata": {
            "tags": []
          },
          "execution_count": 240
        },
        {
          "output_type": "display_data",
          "data": {
            "image/png": "[encoded data removed]",
            "text/plain": [
              "<Figure size 864x360 with 2 Axes>"
            ]
          },
          "metadata": {
            "tags": [],
            "needs_background": "light"
          }
        }
      ]
    },
    {
      "cell_type": "markdown",
      "metadata": {
        "id": "COj7myjFs0Fm"
      },
      "source": [
        "### age: 평균값으로 대체"
      ]
    },
    {
      "cell_type": "code",
      "metadata": {
        "colab": {
          "base_uri": "https://localhost:8080/"
        },
        "id": "F1fXqQLlsx46",
        "outputId": "16dcaa6e-262b-48c9-9788-1aab329fb516"
      },
      "source": [
        "age_mean = whole_df[whole_df['age'] > 0]['age'].mean()\n",
        "whole_df['age'] = whole_df['age'].fillna(age_mean)\n",
        "whole_df['age'].isnull().value_counts()"
      ],
      "execution_count": 241,
      "outputs": [
        {
          "output_type": "execute_result",
          "data": {
            "text/plain": [
              "False    1309\n",
              "Name: age, dtype: int64"
            ]
          },
          "metadata": {
            "tags": []
          },
          "execution_count": 241
        }
      ]
    },
    {
      "cell_type": "code",
      "metadata": {
        "id": "ILxfN57fu79_"
      },
      "source": [
        "def age_classification(age):\n",
        "    return str(age)[0] + \"0\""
      ],
      "execution_count": 242,
      "outputs": []
    },
    {
      "cell_type": "code",
      "metadata": {
        "colab": {
          "base_uri": "https://localhost:8080/"
        },
        "id": "0OcNhpCHu77f",
        "outputId": "efa71775-25ad-4915-aaeb-fd876d918f75"
      },
      "source": [
        "whole_df['age'] = whole_df['age'].apply(lambda x: age_classification(x))\n",
        "whole_df['age'].value_counts().sort_index()"
      ],
      "execution_count": 243,
      "outputs": [
        {
          "output_type": "execute_result",
          "data": {
            "text/plain": [
              "00     12\n",
              "10    153\n",
              "20    619\n",
              "30    239\n",
              "40    145\n",
              "50     75\n",
              "60     38\n",
              "70     11\n",
              "80      7\n",
              "90     10\n",
              "Name: age, dtype: int64"
            ]
          },
          "metadata": {
            "tags": []
          },
          "execution_count": 243
        }
      ]
    },
    {
      "cell_type": "code",
      "metadata": {
        "colab": {
          "base_uri": "https://localhost:8080/",
          "height": 352
        },
        "id": "ex7Kse74U9YM",
        "outputId": "a375f807-7895-43d9-ca7b-26c05be6b692"
      },
      "source": [
        "plt.figure(figsize=(12, 5))\n",
        "\n",
        "plt.subplot(1, 2, 1)\n",
        "sns.countplot(x='age', hue='survived', data=whole_df, order=whole_df['age'].value_counts().sort_index().index)\n",
        "\n",
        "plt.subplot(1, 2, 2)\n",
        "sns.countplot(x='survived', hue='age', data=whole_df, hue_order=whole_df['age'].value_counts().sort_index().index)"
      ],
      "execution_count": 244,
      "outputs": [
        {
          "output_type": "execute_result",
          "data": {
            "text/plain": [
              "<matplotlib.axes._subplots.AxesSubplot at 0x7f251d5ff7d0>"
            ]
          },
          "metadata": {
            "tags": []
          },
          "execution_count": 244
        },
        {
          "output_type": "display_data",
          "data": {
            "image/png": "[encoded data removed]",
            "text/plain": [
              "<Figure size 864x360 with 2 Axes>"
            ]
          },
          "metadata": {
            "tags": [],
            "needs_background": "light"
          }
        }
      ]
    },
    {
      "cell_type": "markdown",
      "metadata": {
        "id": "QB5HfPeJtU1-"
      },
      "source": [
        "### embarked: 최빈값으로 대체"
      ]
    },
    {
      "cell_type": "code",
      "metadata": {
        "colab": {
          "base_uri": "https://localhost:8080/"
        },
        "id": "-pxm913utap1",
        "outputId": "d69b72b8-b730-4869-9716-a97680bfd2cd"
      },
      "source": [
        "embarked_mode = whole_df['embarked'].value_counts().index[0]\n",
        "whole_df['embarked'] = whole_df['embarked'].fillna(embarked_mode)\n",
        "whole_df['embarked'].isnull().value_counts()"
      ],
      "execution_count": 245,
      "outputs": [
        {
          "output_type": "execute_result",
          "data": {
            "text/plain": [
              "False    1309\n",
              "Name: embarked, dtype: int64"
            ]
          },
          "metadata": {
            "tags": []
          },
          "execution_count": 245
        }
      ]
    },
    {
      "cell_type": "code",
      "metadata": {
        "colab": {
          "base_uri": "https://localhost:8080/"
        },
        "id": "nybPaVL7Ians",
        "outputId": "c821bb3a-319c-4e4b-9124-b4fc1612b352"
      },
      "source": [
        "whole_df['embarked'].value_counts()"
      ],
      "execution_count": 246,
      "outputs": [
        {
          "output_type": "execute_result",
          "data": {
            "text/plain": [
              "S    916\n",
              "C    270\n",
              "Q    123\n",
              "Name: embarked, dtype: int64"
            ]
          },
          "metadata": {
            "tags": []
          },
          "execution_count": 246
        }
      ]
    },
    {
      "cell_type": "code",
      "metadata": {
        "colab": {
          "base_uri": "https://localhost:8080/",
          "height": 352
        },
        "id": "Ru285brKXwvi",
        "outputId": "8fcef8c8-ed46-49b6-d3fa-2d6935d21c57"
      },
      "source": [
        "plt.figure(figsize=(12, 5))\n",
        "\n",
        "plt.subplot(1, 2, 1)\n",
        "sns.countplot(x='embarked', hue='survived', data=whole_df)\n",
        "\n",
        "plt.subplot(1, 2, 2)\n",
        "sns.countplot(x='survived', hue='embarked', data=whole_df)\n"
      ],
      "execution_count": 247,
      "outputs": [
        {
          "output_type": "execute_result",
          "data": {
            "text/plain": [
              "<matplotlib.axes._subplots.AxesSubplot at 0x7f251d506950>"
            ]
          },
          "metadata": {
            "tags": []
          },
          "execution_count": 247
        },
        {
          "output_type": "display_data",
          "data": {
            "image/png": "[encoded data removed]",
            "text/plain": [
              "<Figure size 864x360 with 2 Axes>"
            ]
          },
          "metadata": {
            "tags": [],
            "needs_background": "light"
          }
        }
      ]
    },
    {
      "cell_type": "markdown",
      "metadata": {
        "id": "w7psFFqutM_Z"
      },
      "source": [
        "### cabin: 정보없음을 그대로 사용"
      ]
    },
    {
      "cell_type": "code",
      "metadata": {
        "colab": {
          "base_uri": "https://localhost:8080/"
        },
        "id": "t-7jylbAtva5",
        "outputId": "46195b01-48e2-430a-b7ee-3ad04f4fc551"
      },
      "source": [
        "cabin_series = whole_df['cabin'].value_counts()\n",
        "cabin_series"
      ],
      "execution_count": 248,
      "outputs": [
        {
          "output_type": "execute_result",
          "data": {
            "text/plain": [
              "C23 C25 C27        6\n",
              "B57 B59 B63 B66    5\n",
              "G6                 5\n",
              "F2                 4\n",
              "B96 B98            4\n",
              "                  ..\n",
              "A16                1\n",
              "A32                1\n",
              "F38                1\n",
              "D22                1\n",
              "A18                1\n",
              "Name: cabin, Length: 186, dtype: int64"
            ]
          },
          "metadata": {
            "tags": []
          },
          "execution_count": 248
        }
      ]
    },
    {
      "cell_type": "code",
      "metadata": {
        "colab": {
          "base_uri": "https://localhost:8080/"
        },
        "id": "aD7_vG5B1NhJ",
        "outputId": "826c64bb-10ae-4006-b85d-ddeb9091cb54"
      },
      "source": [
        "cabin_list = list(whole_df['cabin'].dropna().values)\n",
        "cabin_list[:10]"
      ],
      "execution_count": 249,
      "outputs": [
        {
          "output_type": "execute_result",
          "data": {
            "text/plain": [
              "['E36', 'C68', 'E24', 'C22 C26', 'D38', 'B50', 'A24', 'C111', 'F', 'C6']"
            ]
          },
          "metadata": {
            "tags": []
          },
          "execution_count": 249
        }
      ]
    },
    {
      "cell_type": "code",
      "metadata": {
        "colab": {
          "base_uri": "https://localhost:8080/"
        },
        "id": "BgfAqtppvwd-",
        "outputId": "097d08b7-37d3-489e-a60d-b4f7d4c535f1"
      },
      "source": [
        "cabin_alphabet = []\n",
        "for i in range(len(cabin_list)):\n",
        "    cabin_alphabet.append(cabin_list[i][0])\n",
        "print(cabin_alphabet)"
      ],
      "execution_count": 250,
      "outputs": [
        {
          "output_type": "stream",
          "text": [
            "['E', 'C', 'E', 'C', 'D', 'B', 'A', 'C', 'F', 'C', 'C', 'E', 'B', 'C', 'D', 'D', 'C', 'C', 'B', 'T', 'B', 'B', 'A', 'A', 'B', 'G', 'C', 'C', 'D', 'D', 'C', 'E', 'B', 'B', 'E', 'C', 'B', 'A', 'D', 'E', 'C', 'D', 'E', 'B', 'D', 'F', 'E', 'D', 'A', 'D', 'A', 'F', 'D', 'A', 'B', 'D', 'E', 'G', 'C', 'D', 'E', 'C', 'B', 'A', 'B', 'F', 'D', 'C', 'C', 'F', 'C', 'C', 'C', 'G', 'C', 'C', 'E', 'F', 'D', 'E', 'D', 'B', 'C', 'B', 'C', 'E', 'F', 'C', 'D', 'B', 'E', 'B', 'D', 'B', 'C', 'B', 'B', 'F', 'D', 'A', 'C', 'B', 'C', 'B', 'D', 'B', 'C', 'C', 'E', 'F', 'B', 'C', 'D', 'C', 'A', 'B', 'B', 'C', 'D', 'A', 'B', 'B', 'C', 'C', 'C', 'C', 'B', 'C', 'F', 'A', 'E', 'C', 'C', 'C', 'B', 'A', 'C', 'C', 'D', 'C', 'C', 'B', 'B', 'E', 'E', 'F', 'F', 'E', 'C', 'E', 'B', 'C', 'A', 'D', 'E', 'F', 'F', 'B', 'D', 'D', 'B', 'E', 'C', 'D', 'C', 'D', 'E', 'E', 'C', 'C', 'F', 'C', 'C', 'B', 'C', 'D', 'C', 'C', 'E', 'B', 'D', 'E', 'C', 'C', 'C', 'A', 'G', 'C', 'E', 'C', 'D', 'C', 'E', 'C', 'B', 'C', 'E', 'C', 'C', 'B', 'E', 'B', 'C', 'E', 'E', 'C', 'D', 'A', 'A', 'C', 'C', 'B', 'C', 'B', 'G', 'E', 'C', 'B', 'A', 'B', 'B', 'F', 'C', 'D', 'D', 'D', 'D', 'B', 'D', 'D', 'C', 'C', 'E', 'B', 'C', 'C', 'A', 'C', 'B', 'B', 'C', 'A', 'B', 'C', 'D', 'C', 'B', 'E', 'D', 'D', 'B', 'C', 'C', 'B', 'E', 'F', 'B', 'C', 'C', 'C', 'E', 'F', 'D', 'C', 'B', 'E', 'F', 'A', 'C', 'D', 'D', 'B', 'C', 'E', 'C', 'D', 'C', 'C', 'B', 'B', 'C', 'B', 'E', 'B', 'B', 'B', 'F', 'B', 'C', 'B', 'D', 'B', 'A', 'E', 'F']\n"
          ],
          "name": "stdout"
        }
      ]
    },
    {
      "cell_type": "code",
      "metadata": {
        "colab": {
          "base_uri": "https://localhost:8080/"
        },
        "id": "kX18YdTuwOam",
        "outputId": "5bd05b57-7f79-4738-acbe-b6d0bd16c244"
      },
      "source": [
        "def count_cabin(list):\n",
        "    cabin_dict = {}\n",
        "    for i in list:\n",
        "        try: cabin_dict[i] += 1\n",
        "        except: cabin_dict[i] = 1\n",
        "    return cabin_dict\n",
        "\n",
        "count_cabin(cabin_alphabet)"
      ],
      "execution_count": 251,
      "outputs": [
        {
          "output_type": "execute_result",
          "data": {
            "text/plain": [
              "{'A': 22, 'B': 65, 'C': 94, 'D': 46, 'E': 41, 'F': 21, 'G': 5, 'T': 1}"
            ]
          },
          "metadata": {
            "tags": []
          },
          "execution_count": 251
        }
      ]
    },
    {
      "cell_type": "markdown",
      "metadata": {
        "id": "vmPf40Htozmu"
      },
      "source": [
        "G와 T로 시작하는 선실과 null값을 가진 선실들을 X로 대체하기로 한다. "
      ]
    },
    {
      "cell_type": "code",
      "metadata": {
        "id": "HzCj3nMzx3Pw"
      },
      "source": [
        "whole_df['cabin'] = whole_df['cabin'].fillna('X')\n",
        "whole_df['cabin'] = whole_df['cabin'].apply(lambda x: x[0])\n",
        "whole_df['cabin'] = whole_df['cabin'].replace({\"G\": \"X\", \"T\":\"X\"})"
      ],
      "execution_count": 252,
      "outputs": []
    },
    {
      "cell_type": "code",
      "metadata": {
        "colab": {
          "base_uri": "https://localhost:8080/"
        },
        "id": "oxnHFYu-pbJk",
        "outputId": "c31f5deb-9695-47c3-a87b-1d7cd90ef512"
      },
      "source": [
        "whole_df['cabin'].value_counts()"
      ],
      "execution_count": 253,
      "outputs": [
        {
          "output_type": "execute_result",
          "data": {
            "text/plain": [
              "X    1020\n",
              "C      94\n",
              "B      65\n",
              "D      46\n",
              "E      41\n",
              "A      22\n",
              "F      21\n",
              "Name: cabin, dtype: int64"
            ]
          },
          "metadata": {
            "tags": []
          },
          "execution_count": 253
        }
      ]
    },
    {
      "cell_type": "code",
      "metadata": {
        "colab": {
          "base_uri": "https://localhost:8080/",
          "height": 352
        },
        "id": "cp68-GXKqJK-",
        "outputId": "123f0a11-2f90-41a4-ea71-dfa71a4b706b"
      },
      "source": [
        "plt.figure(figsize=(12, 5))\n",
        "\n",
        "plt.subplot(1, 2, 1)\n",
        "sns.countplot(x='cabin', hue='survived', data=whole_df)\n",
        "\n",
        "plt.subplot(1, 2, 2)\n",
        "sns.countplot(x='survived', hue='cabin', data=whole_df)"
      ],
      "execution_count": 254,
      "outputs": [
        {
          "output_type": "execute_result",
          "data": {
            "text/plain": [
              "<matplotlib.axes._subplots.AxesSubplot at 0x7f251d36ed10>"
            ]
          },
          "metadata": {
            "tags": []
          },
          "execution_count": 254
        },
        {
          "output_type": "display_data",
          "data": {
            "image/png": "[encoded data removed]",
            "text/plain": [
              "<Figure size 864x360 with 2 Axes>"
            ]
          },
          "metadata": {
            "tags": [],
            "needs_background": "light"
          }
        }
      ]
    },
    {
      "cell_type": "markdown",
      "metadata": {
        "id": "sCQsB2Y5uySj"
      },
      "source": [
        "### name: 결측치 없음"
      ]
    },
    {
      "cell_type": "code",
      "metadata": {
        "colab": {
          "base_uri": "https://localhost:8080/"
        },
        "id": "38MBJ350ajyh",
        "outputId": "f254dddc-b4ad-4ca2-ca6d-561ef00758d9"
      },
      "source": [
        "whole_df['name']"
      ],
      "execution_count": 255,
      "outputs": [
        {
          "output_type": "execute_result",
          "data": {
            "text/plain": [
              "0                 Mellinger, Miss. Madeleine Violet\n",
              "1                                 Wells, Miss. Joan\n",
              "2                    Duran y More, Miss. Florentina\n",
              "3                                Scanlan, Mr. James\n",
              "4                      Bradley, Miss. Bridget Delia\n",
              "                           ...                     \n",
              "388               Karlsson, Mr. Julius Konrad Eugen\n",
              "389    Ware, Mrs. John James (Florence Louise Long)\n",
              "390                            O'Keefe, Mr. Patrick\n",
              "391                                Tobin, Mr. Roger\n",
              "392                            Daniels, Miss. Sarah\n",
              "Name: name, Length: 1309, dtype: object"
            ]
          },
          "metadata": {
            "tags": []
          },
          "execution_count": 255
        }
      ]
    },
    {
      "cell_type": "code",
      "metadata": {
        "colab": {
          "base_uri": "https://localhost:8080/"
        },
        "id": "CWsAUBiGajvk",
        "outputId": "fdce4b90-4e55-43af-b41a-43853b7d7f0d"
      },
      "source": [
        "name_grade = whole_df['name'].apply(lambda x: x.split(\",\", 1)[1].split(\".\")[0])\n",
        "name_grade = name_grade.unique().tolist()\n",
        "name_grade"
      ],
      "execution_count": 256,
      "outputs": [
        {
          "output_type": "execute_result",
          "data": {
            "text/plain": [
              "[' Miss',\n",
              " ' Mr',\n",
              " ' Master',\n",
              " ' Mrs',\n",
              " ' Dr',\n",
              " ' Mlle',\n",
              " ' Col',\n",
              " ' Rev',\n",
              " ' Ms',\n",
              " ' Mme',\n",
              " ' Sir',\n",
              " ' the Countess',\n",
              " ' Dona',\n",
              " ' Jonkheer',\n",
              " ' Lady',\n",
              " ' Major',\n",
              " ' Don',\n",
              " ' Capt']"
            ]
          },
          "metadata": {
            "tags": []
          },
          "execution_count": 256
        }
      ]
    },
    {
      "cell_type": "code",
      "metadata": {
        "id": "9z1XF91wajtN"
      },
      "source": [
        "# 1910년대 기준 호칭에 따른 사회적 지위 정의\n",
        "grade_dict = {'A': [' Dr', ' Col', ' Rev', ' Sir', ' Major', ' Capt'],  # 명예직\n",
        "            'B': [' the Countess', ' Jonkheer'],   # 귀족, 작위 \n",
        "            'C': [' Mrs', ' Ms', ' Mme', ' Dona'],   # 여성\n",
        "            'D': [' Mr', ' Don'],   # 남성\n",
        "            'E': [' Miss', ' Mlle', ' Lady'],   # 젊은 여성\n",
        "            'F': [' Master']}   # 젏은 남성  "
      ],
      "execution_count": 257,
      "outputs": []
    },
    {
      "cell_type": "code",
      "metadata": {
        "id": "0MJtq0c8ajp6"
      },
      "source": [
        "def give_name_grade(x):\n",
        "    grade = x.split(\",\", 1)[1].split(\".\")[0]\n",
        "    for key, value in grade_dict.items():\n",
        "        for title in value: \n",
        "            if grade == title:\n",
        "                return key\n",
        "    return 'G'"
      ],
      "execution_count": 258,
      "outputs": []
    },
    {
      "cell_type": "code",
      "metadata": {
        "colab": {
          "base_uri": "https://localhost:8080/"
        },
        "id": "sL6ncKSGeoOC",
        "outputId": "e5e01437-c8de-498e-a2b1-cad8e7edd244"
      },
      "source": [
        "whole_df['name'] = whole_df['name'].apply(lambda x: give_name_grade(x))\n",
        "whole_df['name'].value_counts()"
      ],
      "execution_count": 259,
      "outputs": [
        {
          "output_type": "execute_result",
          "data": {
            "text/plain": [
              "D    758\n",
              "E    263\n",
              "C    201\n",
              "F     61\n",
              "A     24\n",
              "B      2\n",
              "Name: name, dtype: int64"
            ]
          },
          "metadata": {
            "tags": []
          },
          "execution_count": 259
        }
      ]
    },
    {
      "cell_type": "code",
      "metadata": {
        "colab": {
          "base_uri": "https://localhost:8080/",
          "height": 352
        },
        "id": "nkv3ce_8fcrq",
        "outputId": "f0288594-8b3c-47d4-edd7-4d3184cf9752"
      },
      "source": [
        "plt.figure(figsize=(12, 5))\n",
        "\n",
        "plt.subplot(1, 2, 1)\n",
        "sns.countplot(x='name', hue='survived', data=whole_df, order=whole_df['name'].value_counts().sort_index().index)\n",
        "\n",
        "plt.subplot(1, 2, 2)\n",
        "sns.countplot(x='survived', hue='name', data=whole_df, hue_order=whole_df['name'].value_counts().sort_index().index)"
      ],
      "execution_count": 260,
      "outputs": [
        {
          "output_type": "execute_result",
          "data": {
            "text/plain": [
              "<matplotlib.axes._subplots.AxesSubplot at 0x7f251d744a90>"
            ]
          },
          "metadata": {
            "tags": []
          },
          "execution_count": 260
        },
        {
          "output_type": "display_data",
          "data": {
            "image/png": "[encoded data removed]",
            "text/plain": [
              "<Figure size 864x360 with 2 Axes>"
            ]
          },
          "metadata": {
            "tags": [],
            "needs_background": "light"
          }
        }
      ]
    },
    {
      "cell_type": "markdown",
      "metadata": {
        "id": "cJJuAncrpfUp"
      },
      "source": [
        "**<가설>**\n",
        "* pclass: 1등급 승객은 생존률이 높고, 3등급 승객은 생존률이 낮다.\n",
        "* age: 20~30대는 사망률이 현저히 높다. \n",
        "* embarked: C 승객은 생존률이 높고, S 승객은 생존률이 낮다. \n",
        "* cabin: X 선실 승객은 생존률이 현저히 낮다. \n",
        "* name: 여성(젊은 여성 포함)은 생존률이 현저히 높고, 남성(젊은 남성 미포함)은 생존률이 현저히 낮다."
      ]
    },
    {
      "cell_type": "markdown",
      "metadata": {
        "id": "a_VEO03xgipd"
      },
      "source": [
        "## 범주형 feature 원핫인코딩 적용하기"
      ]
    },
    {
      "cell_type": "code",
      "metadata": {
        "id": "yC2isQrugqQ6"
      },
      "source": [
        "whole_df_encoded = pd.get_dummies(whole_df, columns=['name', 'cabin', 'embarked', 'sex']) "
      ],
      "execution_count": 261,
      "outputs": []
    },
    {
      "cell_type": "code",
      "metadata": {
        "colab": {
          "base_uri": "https://localhost:8080/"
        },
        "id": "seETUP_6g1m2",
        "outputId": "d74eb68e-6bc9-4d84-c5c3-5286e3ce1b68"
      },
      "source": [
        "train_df = whole_df_encoded[:train_idx]\n",
        "test_df = whole_df_encoded[train_idx:]\n",
        "\n",
        "print(train_df.shape, test_df.shape)"
      ],
      "execution_count": 262,
      "outputs": [
        {
          "output_type": "stream",
          "text": [
            "(916, 24) (393, 24)\n"
          ],
          "name": "stdout"
        }
      ]
    },
    {
      "cell_type": "code",
      "metadata": {
        "colab": {
          "base_uri": "https://localhost:8080/"
        },
        "id": "51dPn1s4hCJc",
        "outputId": "0fe1e71f-f442-46dd-924a-8904452046c4"
      },
      "source": [
        "train_df.columns"
      ],
      "execution_count": 263,
      "outputs": [
        {
          "output_type": "execute_result",
          "data": {
            "text/plain": [
              "Index(['pclass', 'survived', 'age', 'sibsp', 'parch', 'fare', 'name_A',\n",
              "       'name_B', 'name_C', 'name_D', 'name_E', 'name_F', 'cabin_A', 'cabin_B',\n",
              "       'cabin_C', 'cabin_D', 'cabin_E', 'cabin_F', 'cabin_X', 'embarked_C',\n",
              "       'embarked_Q', 'embarked_S', 'sex_female', 'sex_male'],\n",
              "      dtype='object')"
            ]
          },
          "metadata": {
            "tags": []
          },
          "execution_count": 263
        }
      ]
    },
    {
      "cell_type": "markdown",
      "metadata": {
        "id": "9U_lwEXVhhTG"
      },
      "source": [
        "## 학습하기"
      ]
    },
    {
      "cell_type": "code",
      "metadata": {
        "colab": {
          "base_uri": "https://localhost:8080/"
        },
        "id": "74thIukeigaR",
        "outputId": "c91be675-95a7-4436-8f2f-94cbfec3b291"
      },
      "source": [
        "x_train, y_train = train_df.loc[:, train_df.columns != 'survived'].values, train_df['survived'].values\n",
        "x_test, y_test = test_df.loc[:, test_df.columns != 'survived'].values, test_df['survived'].values\n",
        "\n",
        "print(x_train.shape, y_train.shape)\n",
        "print(x_test.shape, y_test.shape)"
      ],
      "execution_count": 282,
      "outputs": [
        {
          "output_type": "stream",
          "text": [
            "(1048, 23) (1048,)\n",
            "(261, 23) (261,)\n"
          ],
          "name": "stdout"
        }
      ]
    },
    {
      "cell_type": "code",
      "metadata": {
        "colab": {
          "base_uri": "https://localhost:8080/"
        },
        "id": "IbXX_MWpii8F",
        "outputId": "3830743f-b468-447f-92f2-622f738c649d"
      },
      "source": [
        "lr = LogisticRegression(random_state=10)\n",
        "\n",
        "lr.fit(x_train, y_train)"
      ],
      "execution_count": 283,
      "outputs": [
        {
          "output_type": "execute_result",
          "data": {
            "text/plain": [
              "LogisticRegression(C=1.0, class_weight=None, dual=False, fit_intercept=True,\n",
              "                   intercept_scaling=1, l1_ratio=None, max_iter=100,\n",
              "                   multi_class='auto', n_jobs=None, penalty='l2',\n",
              "                   random_state=10, solver='lbfgs', tol=0.0001, verbose=0,\n",
              "                   warm_start=False)"
            ]
          },
          "metadata": {
            "tags": []
          },
          "execution_count": 283
        }
      ]
    },
    {
      "cell_type": "code",
      "metadata": {
        "id": "x55FrSkdimG8"
      },
      "source": [
        "y_pred = lr.predict(x_test)"
      ],
      "execution_count": 284,
      "outputs": []
    },
    {
      "cell_type": "code",
      "metadata": {
        "id": "Ib95GlRripGl"
      },
      "source": [
        "y_pred_probability = lr.predict_proba(x_test)[:,1]"
      ],
      "execution_count": 285,
      "outputs": []
    },
    {
      "cell_type": "markdown",
      "metadata": {
        "id": "daVqeBBnisms"
      },
      "source": [
        "## 평가하기"
      ]
    },
    {
      "cell_type": "code",
      "metadata": {
        "colab": {
          "base_uri": "https://localhost:8080/"
        },
        "id": "8pA-uG5ti0Og",
        "outputId": "fd27580f-d18c-4f67-d1b3-82566bdfba95"
      },
      "source": [
        "print(\"accuracy: %.2f\" % accuracy_score(y_test, y_pred))\n",
        "print(\"precision: %.3f\" % precision_score(y_test, y_pred))\n",
        "print(\"recall: %.3f\" % recall_score(y_test, y_pred))\n",
        "print(\"f1: %.3f\" % f1_score(y_test, y_pred))"
      ],
      "execution_count": 286,
      "outputs": [
        {
          "output_type": "stream",
          "text": [
            "accuracy: 0.80\n",
            "precision: 0.753\n",
            "recall: 0.700\n",
            "f1: 0.725\n"
          ],
          "name": "stdout"
        }
      ]
    },
    {
      "cell_type": "code",
      "metadata": {
        "colab": {
          "base_uri": "https://localhost:8080/"
        },
        "id": "Xmorv1c3i0ew",
        "outputId": "284bd80c-50d5-4cc7-bc78-75386fe949f5"
      },
      "source": [
        "false_positive_rate, true_positive_rate, thresholds = roc_curve(y_test, y_pred_probability)\n",
        "roc_auc = roc_auc_score(y_test, y_pred_probability)\n",
        "print(\"auc: %.3f\" % roc_auc)"
      ],
      "execution_count": 269,
      "outputs": [
        {
          "output_type": "stream",
          "text": [
            "auc: 0.847\n"
          ],
          "name": "stdout"
        }
      ]
    },
    {
      "cell_type": "markdown",
      "metadata": {
        "id": "MPwS2i_7jJ3u"
      },
      "source": [
        "<이전 평가지표> \\\n",
        "accuracy: 0.80 \\\n",
        "precision: 0.756 \\\n",
        "recall: 0.673 \\\n",
        "f1: 0.712 \\\n",
        "auc: 0.838"
      ]
    },
    {
      "cell_type": "code",
      "metadata": {
        "colab": {
          "base_uri": "https://localhost:8080/",
          "height": 295
        },
        "id": "fQXVHP-wi4Nl",
        "outputId": "a6797f93-1c62-4d7f-9451-09359ba86366"
      },
      "source": [
        "plt.plot(false_positive_rate, true_positive_rate, \n",
        "         label='ROC curve (area = %.3f)' % roc_auc, \n",
        "         color='red', \n",
        "         linewidth=4.0)\n",
        "plt.plot([0, 1], [0, 1], 'k--')\n",
        "plt.xlim([0, 1])\n",
        "plt.ylim([0, 1])\n",
        "plt.xlabel(\"False Positive Rate\")\n",
        "plt.ylabel(\"True Positive Rate\")\n",
        "plt.title(\"ROC curve of Logistic Regression\")\n",
        "plt.legend(loc = \"lower right\")\n",
        "plt.show()"
      ],
      "execution_count": 270,
      "outputs": [
        {
          "output_type": "display_data",
          "data": {
            "image/png": "[encoded data removed]",
            "text/plain": [
              "<Figure size 432x288 with 1 Axes>"
            ]
          },
          "metadata": {
            "tags": [],
            "needs_background": "light"
          }
        }
      ]
    },
    {
      "cell_type": "markdown",
      "metadata": {
        "id": "Xym3ZPqok7Nr"
      },
      "source": [
        "# [4] 모델 검증하기: 과적합 여부 검증\n",
        "1. K-fold 교차검증(K-fold cross validation): \n",
        "    * train dataset과 test dataset이 불균등하게 나눠졌을 가능성을 낮추는 방법. \n",
        "    * 데이터를 k개의 fold로 나누어 k-1개는 train dataset으로, 나머지 1개는 test datset으로 사용. \n",
        "    * 총 k회 학습을 통해 모델의 분할검증을 k번 반복. \n",
        "    * k번의 검증과정에서 테스트 점수간 차이가 크지 않다면 과적합이 일어나지 않음. \n",
        "2. 학습곡선(Learning Curve)"
      ]
    },
    {
      "cell_type": "markdown",
      "metadata": {
        "id": "8oluZS2RA73s"
      },
      "source": [
        "## 1. K-Fold 교차검증"
      ]
    },
    {
      "cell_type": "code",
      "metadata": {
        "id": "JTRdMmwjk_sg"
      },
      "source": [
        "from sklearn.model_selection import KFold"
      ],
      "execution_count": 271,
      "outputs": []
    },
    {
      "cell_type": "code",
      "metadata": {
        "colab": {
          "base_uri": "https://localhost:8080/",
          "height": 279
        },
        "id": "tE1F6w7Q9XvU",
        "outputId": "8b575d0d-c3cd-481a-a524-2a6073388d6d"
      },
      "source": [
        "k = 5\n",
        "cv = KFold(k, shuffle=True, random_state=7)\n",
        "auc_history = []\n",
        "\n",
        "for i, (train_data_row, test_data_row) in enumerate(cv.split(whole_df_encoded)):\n",
        "    train_df = whole_df_encoded.iloc[train_data_row]\n",
        "    test_df = whole_df_encoded.iloc[test_data_row]\n",
        "\n",
        "    splited_x_train, splited_y_train = train_df.loc[:, train_df.columns != 'survived'].values, train_df['survived'].values\n",
        "    splited_x_test, splited_y_test = test_df.loc[:, test_df.columns != 'survived'].values, test_df['survived'].values\n",
        "\n",
        "    lr = LogisticRegression(random_state=7)\n",
        "    lr.fit(splited_x_train, splited_y_train)\n",
        "    y_pred = lr.predict(splited_x_test)\n",
        "    y_pred_probability = lr.predict_proba(splited_x_test)[:, 1]\n",
        "\n",
        "    false_positive_rate, true_positive_rate, thresholds = roc_curve(splited_y_test, y_pred_probability)\n",
        "    roc_auc = roc_auc_score(splited_y_test, y_pred_probability)\n",
        "    auc_history.append(roc_auc)\n",
        "\n",
        "plt.xlabel(\"Each K-fold\")\n",
        "plt.ylabel(\"AUC of Splited Test Data\")\n",
        "plt.plot(range(1, k+1), auc_history)\n",
        "plt.show()"
      ],
      "execution_count": 289,
      "outputs": [
        {
          "output_type": "display_data",
          "data": {
            "image/png": "[encoded data removed]",
            "text/plain": [
              "<Figure size 432x288 with 1 Axes>"
            ]
          },
          "metadata": {
            "tags": [],
            "needs_background": "light"
          }
        }
      ]
    },
    {
      "cell_type": "markdown",
      "metadata": {
        "id": "Yhi30lk1_H4H"
      },
      "source": [
        "* AUC가 큰 폭으로 변한다. --불안정한 모델 \\\n",
        "    cf. AUC가 큰 폭으로 변하는 이유: 데이터의 수가 적음 \\\n",
        "* AUC가 0.8 이상이다. --과적합 발생\n",
        " \n"
      ]
    },
    {
      "cell_type": "markdown",
      "metadata": {
        "id": "ImeYJRq__9cU"
      },
      "source": [
        "## 2. 학습곡선"
      ]
    },
    {
      "cell_type": "code",
      "metadata": {
        "colab": {
          "base_uri": "https://localhost:8080/"
        },
        "id": "o497VgFUBR3H",
        "outputId": "0fb52bc1-6ff9-49f4-d74f-e446ebada799"
      },
      "source": [
        "!pip install scikit-plot"
      ],
      "execution_count": 290,
      "outputs": [
        {
          "output_type": "stream",
          "text": [
            "Collecting scikit-plot\n",
            "  Downloading https://files.pythonhosted.org/packages/7c/47/32520e259340c140a4ad27c1b97050dd3254fdc517b1d59974d47037510e/scikit_plot-0.3.7-py3-none-any.whl\n",
            "Requirement already satisfied: scipy>=0.9 in /usr/local/lib/python3.7/dist-packages (from scikit-plot) (1.4.1)\n",
            "Requirement already satisfied: joblib>=0.10 in /usr/local/lib/python3.7/dist-packages (from scikit-plot) (1.0.1)\n",
            "Requirement already satisfied: scikit-learn>=0.18 in /usr/local/lib/python3.7/dist-packages (from scikit-plot) (0.22.2.post1)\n",
            "Requirement already satisfied: matplotlib>=1.4.0 in /usr/local/lib/python3.7/dist-packages (from scikit-plot) (3.2.2)\n",
            "Requirement already satisfied: numpy>=1.13.3 in /usr/local/lib/python3.7/dist-packages (from scipy>=0.9->scikit-plot) (1.19.5)\n",
            "Requirement already satisfied: python-dateutil>=2.1 in /usr/local/lib/python3.7/dist-packages (from matplotlib>=1.4.0->scikit-plot) (2.8.1)\n",
            "Requirement already satisfied: cycler>=0.10 in /usr/local/lib/python3.7/dist-packages (from matplotlib>=1.4.0->scikit-plot) (0.10.0)\n",
            "Requirement already satisfied: kiwisolver>=1.0.1 in /usr/local/lib/python3.7/dist-packages (from matplotlib>=1.4.0->scikit-plot) (1.3.1)\n",
            "Requirement already satisfied: pyparsing!=2.0.4,!=2.1.2,!=2.1.6,>=2.0.1 in /usr/local/lib/python3.7/dist-packages (from matplotlib>=1.4.0->scikit-plot) (2.4.7)\n",
            "Requirement already satisfied: six>=1.5 in /usr/local/lib/python3.7/dist-packages (from python-dateutil>=2.1->matplotlib>=1.4.0->scikit-plot) (1.15.0)\n",
            "Installing collected packages: scikit-plot\n",
            "Successfully installed scikit-plot-0.3.7\n"
          ],
          "name": "stdout"
        }
      ]
    },
    {
      "cell_type": "code",
      "metadata": {
        "id": "fAhBFmMiBVKz"
      },
      "source": [
        "import scikitplot as skplt"
      ],
      "execution_count": 291,
      "outputs": []
    },
    {
      "cell_type": "code",
      "metadata": {
        "colab": {
          "base_uri": "https://localhost:8080/",
          "height": 295
        },
        "id": "6g2NCSAaBm2Z",
        "outputId": "e84d27e4-ebeb-4803-f925-6a6f528b9daf"
      },
      "source": [
        "# 학습데이터 샘플 수가 증가함에 따라 학습과 테스트 두 점수가 어떻게 변화하는지 관찰 \n",
        "skplt.estimators.plot_learning_curve(lr, x_train, y_train)\n",
        "plt.show()"
      ],
      "execution_count": 292,
      "outputs": [
        {
          "output_type": "display_data",
          "data": {
            "image/png": "[encoded data removed]",
            "text/plain": [
              "<Figure size 432x288 with 1 Axes>"
            ]
          },
          "metadata": {
            "tags": [],
            "needs_background": "light"
          }
        }
      ]
    }
  ]
}